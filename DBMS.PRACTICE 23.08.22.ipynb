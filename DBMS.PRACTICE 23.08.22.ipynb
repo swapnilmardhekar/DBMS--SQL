{
 "cells": [
  {
   "cell_type": "code",
   "execution_count": 21,
   "id": "e8ac5207",
   "metadata": {},
   "outputs": [],
   "source": [
    "import sqlite3"
   ]
  },
  {
   "cell_type": "code",
   "execution_count": 31,
   "id": "4e229b54",
   "metadata": {},
   "outputs": [],
   "source": [
    "db= sqlite3.connect('emdabase.db')"
   ]
  },
  {
   "cell_type": "markdown",
   "id": "495c977c",
   "metadata": {},
   "source": [
    "create cursor"
   ]
  },
  {
   "cell_type": "code",
   "execution_count": 32,
   "id": "cb3a5446",
   "metadata": {},
   "outputs": [],
   "source": [
    "cur=db.cursor()"
   ]
  },
  {
   "cell_type": "code",
   "execution_count": 33,
   "id": "1d1854e3",
   "metadata": {},
   "outputs": [
    {
     "data": {
      "text/plain": [
       "<sqlite3.Cursor at 0x222782ad260>"
      ]
     },
     "execution_count": 33,
     "metadata": {},
     "output_type": "execute_result"
    }
   ],
   "source": [
    "cur.execute('create table em(id int primary key,name text,marks int)')"
   ]
  },
  {
   "cell_type": "code",
   "execution_count": 34,
   "id": "b97a86c0",
   "metadata": {},
   "outputs": [
    {
     "data": {
      "text/plain": [
       "<sqlite3.Cursor at 0x222782ad260>"
      ]
     },
     "execution_count": 34,
     "metadata": {},
     "output_type": "execute_result"
    }
   ],
   "source": [
    "cur.execute(\"insert into em(id,name,marks) values(101,'John',80)\")"
   ]
  },
  {
   "cell_type": "code",
   "execution_count": 35,
   "id": "eee9712e",
   "metadata": {},
   "outputs": [],
   "source": [
    "db.commit()"
   ]
  },
  {
   "cell_type": "code",
   "execution_count": 36,
   "id": "22eb3e01",
   "metadata": {},
   "outputs": [],
   "source": [
    "cur.execute(\"insert into em(id,name,marks) values(103,'Dorsay',55)\")\n",
    "\n",
    "db.commit()"
   ]
  },
  {
   "cell_type": "code",
   "execution_count": 37,
   "id": "fb4ff905",
   "metadata": {},
   "outputs": [],
   "source": [
    "cur.execute(\"insert into em(id,name,marks) values(104,'Swapnil',78)\")\n",
    "\n",
    "db.commit()"
   ]
  },
  {
   "cell_type": "code",
   "execution_count": 38,
   "id": "c9315fa2",
   "metadata": {},
   "outputs": [
    {
     "name": "stdout",
     "output_type": "stream",
     "text": [
      "(101, 'John', 80)\n",
      "(103, 'Dorsay', 55)\n",
      "(104, 'Swapnil', 78)\n"
     ]
    }
   ],
   "source": [
    "results=cur.execute(\"select * from em\")\n",
    "\n",
    "for i in results:\n",
    "    print(i)"
   ]
  },
  {
   "cell_type": "code",
   "execution_count": 39,
   "id": "0299bb1c",
   "metadata": {},
   "outputs": [
    {
     "name": "stdout",
     "output_type": "stream",
     "text": [
      "<sqlite3.Cursor object at 0x00000222782AD260>\n"
     ]
    }
   ],
   "source": [
    "print(cur)"
   ]
  },
  {
   "cell_type": "code",
   "execution_count": 43,
   "id": "12afb594",
   "metadata": {},
   "outputs": [],
   "source": [
    "cur.execute(\"insert into em values(22,'Sanjay',59),(119,'Sonya',69)\")\n",
    "db.commit()"
   ]
  },
  {
   "cell_type": "code",
   "execution_count": 44,
   "id": "be74ef8d",
   "metadata": {},
   "outputs": [
    {
     "name": "stdout",
     "output_type": "stream",
     "text": [
      "(101, 'John', 80)\n",
      "(103, 'Dorsay', 55)\n",
      "(104, 'Swapnil', 78)\n",
      "(107, 'Sushil', 73)\n",
      "(108, 'Sanket', 79)\n",
      "(109, 'Sayali', 88)\n",
      "(22, 'Sanjay', 59)\n",
      "(119, 'Sonya', 69)\n"
     ]
    }
   ],
   "source": [
    "results=cur.execute(\"select * from em\")\n",
    "\n",
    "for i in results:\n",
    "    print(i)"
   ]
  },
  {
   "cell_type": "markdown",
   "id": "8898aabb",
   "metadata": {},
   "source": [
    "Fetchall"
   ]
  },
  {
   "cell_type": "code",
   "execution_count": 45,
   "id": "d3a10b67",
   "metadata": {},
   "outputs": [
    {
     "data": {
      "text/plain": [
       "[(101, 'John', 80),\n",
       " (103, 'Dorsay', 55),\n",
       " (104, 'Swapnil', 78),\n",
       " (107, 'Sushil', 73),\n",
       " (108, 'Sanket', 79),\n",
       " (109, 'Sayali', 88),\n",
       " (22, 'Sanjay', 59),\n",
       " (119, 'Sonya', 69)]"
      ]
     },
     "execution_count": 45,
     "metadata": {},
     "output_type": "execute_result"
    }
   ],
   "source": [
    "results=cur.execute(\"select * from em\")\n",
    "\n",
    "results.fetchall()"
   ]
  },
  {
   "cell_type": "code",
   "execution_count": 46,
   "id": "44c7a9e0",
   "metadata": {},
   "outputs": [
    {
     "name": "stdout",
     "output_type": "stream",
     "text": [
      "(22,)\n",
      "(101,)\n",
      "(103,)\n",
      "(104,)\n",
      "(107,)\n",
      "(108,)\n",
      "(109,)\n",
      "(119,)\n"
     ]
    }
   ],
   "source": [
    "results=cur.execute(\"select id from em\")\n",
    "\n",
    "for i in results:\n",
    "    print(i)"
   ]
  },
  {
   "cell_type": "code",
   "execution_count": 47,
   "id": "30b9d18e",
   "metadata": {},
   "outputs": [
    {
     "data": {
      "text/plain": [
       "[(22,), (101,), (103,), (104,), (107,), (108,), (109,), (119,)]"
      ]
     },
     "execution_count": 47,
     "metadata": {},
     "output_type": "execute_result"
    }
   ],
   "source": [
    "results=cur.execute(\"select id from em\")\n",
    "\n",
    "results.fetchall()"
   ]
  },
  {
   "cell_type": "code",
   "execution_count": 49,
   "id": "3217b418",
   "metadata": {},
   "outputs": [
    {
     "name": "stdout",
     "output_type": "stream",
     "text": [
      "('John',)\n",
      "('Dorsay',)\n",
      "('Swapnil',)\n",
      "('Sushil',)\n",
      "('Sanket',)\n",
      "('Sayali',)\n",
      "('Sanjay',)\n",
      "('Sonya',)\n"
     ]
    }
   ],
   "source": [
    "results=cur.execute(\"select name from em\")\n",
    "\n",
    "for i in results:\n",
    "    print(i)"
   ]
  },
  {
   "cell_type": "code",
   "execution_count": 50,
   "id": "d33f1fcf",
   "metadata": {},
   "outputs": [
    {
     "data": {
      "text/plain": [
       "[('John',),\n",
       " ('Dorsay',),\n",
       " ('Swapnil',),\n",
       " ('Sushil',),\n",
       " ('Sanket',),\n",
       " ('Sayali',),\n",
       " ('Sanjay',),\n",
       " ('Sonya',)]"
      ]
     },
     "execution_count": 50,
     "metadata": {},
     "output_type": "execute_result"
    }
   ],
   "source": [
    "results=cur.execute(\"select name from em\")\n",
    "\n",
    "results.fetchall()"
   ]
  },
  {
   "cell_type": "code",
   "execution_count": 51,
   "id": "e538333f",
   "metadata": {},
   "outputs": [
    {
     "data": {
      "text/plain": [
       "[(101, 'John'),\n",
       " (103, 'Dorsay'),\n",
       " (104, 'Swapnil'),\n",
       " (107, 'Sushil'),\n",
       " (108, 'Sanket'),\n",
       " (109, 'Sayali'),\n",
       " (22, 'Sanjay'),\n",
       " (119, 'Sonya')]"
      ]
     },
     "execution_count": 51,
     "metadata": {},
     "output_type": "execute_result"
    }
   ],
   "source": [
    "results=cur.execute(\"select id,name from em\")\n",
    "\n",
    "results.fetchall()"
   ]
  },
  {
   "cell_type": "code",
   "execution_count": 52,
   "id": "55403bad",
   "metadata": {},
   "outputs": [
    {
     "data": {
      "text/plain": [
       "[('John', 80),\n",
       " ('Dorsay', 55),\n",
       " ('Swapnil', 78),\n",
       " ('Sushil', 73),\n",
       " ('Sanket', 79),\n",
       " ('Sayali', 88),\n",
       " ('Sanjay', 59),\n",
       " ('Sonya', 69)]"
      ]
     },
     "execution_count": 52,
     "metadata": {},
     "output_type": "execute_result"
    }
   ],
   "source": [
    "results=cur.execute(\"select name,marks from em\")\n",
    "\n",
    "results.fetchall()"
   ]
  },
  {
   "cell_type": "code",
   "execution_count": 53,
   "id": "f56e67a0",
   "metadata": {},
   "outputs": [
    {
     "data": {
      "text/plain": [
       "[(101, 'John', 80),\n",
       " (103, 'Dorsay', 55),\n",
       " (104, 'Swapnil', 78),\n",
       " (107, 'Sushil', 73),\n",
       " (108, 'Sanket', 79),\n",
       " (109, 'Sayali', 88),\n",
       " (22, 'Sanjay', 59),\n",
       " (119, 'Sonya', 69)]"
      ]
     },
     "execution_count": 53,
     "metadata": {},
     "output_type": "execute_result"
    }
   ],
   "source": [
    "results=cur.execute(\"select id,name,marks from em\")\n",
    "\n",
    "results.fetchall()"
   ]
  },
  {
   "cell_type": "code",
   "execution_count": 54,
   "id": "ed8291cd",
   "metadata": {},
   "outputs": [
    {
     "data": {
      "text/plain": [
       "[(101, 'John', 80),\n",
       " (103, 'Dorsay', 55),\n",
       " (104, 'Swapnil', 78),\n",
       " (107, 'Sushil', 73),\n",
       " (108, 'Sanket', 79),\n",
       " (109, 'Sayali', 88),\n",
       " (22, 'Sanjay', 59),\n",
       " (119, 'Sonya', 69)]"
      ]
     },
     "execution_count": 54,
     "metadata": {},
     "output_type": "execute_result"
    }
   ],
   "source": [
    "results=cur.execute(\"select * from em\")\n",
    "\n",
    "results.fetchall()"
   ]
  },
  {
   "cell_type": "code",
   "execution_count": 55,
   "id": "cbdd7697",
   "metadata": {},
   "outputs": [
    {
     "name": "stdout",
     "output_type": "stream",
     "text": [
      "(101, 'John', 80)\n"
     ]
    }
   ],
   "source": [
    "results=cur.execute(\"select * from em where id=101\")\n",
    "for i in results:\n",
    "    print(i)"
   ]
  },
  {
   "cell_type": "code",
   "execution_count": 58,
   "id": "1c3f9b21",
   "metadata": {},
   "outputs": [
    {
     "data": {
      "text/plain": [
       "(101, 'John', 80)"
      ]
     },
     "execution_count": 58,
     "metadata": {},
     "output_type": "execute_result"
    }
   ],
   "source": [
    "results=cur.execute(\"select * from em where id=101\")\n",
    "\n",
    "results.fetchone()"
   ]
  },
  {
   "cell_type": "code",
   "execution_count": 57,
   "id": "b583fa89",
   "metadata": {},
   "outputs": [
    {
     "name": "stdout",
     "output_type": "stream",
     "text": [
      "(109, 'Sayali', 88)\n"
     ]
    }
   ],
   "source": [
    "results=cur.execute(\"select * from em where id=109\")\n",
    "for i in results:\n",
    "    print(i)"
   ]
  },
  {
   "cell_type": "code",
   "execution_count": 59,
   "id": "3840fc37",
   "metadata": {},
   "outputs": [
    {
     "data": {
      "text/plain": [
       "(109, 'Sayali', 88)"
      ]
     },
     "execution_count": 59,
     "metadata": {},
     "output_type": "execute_result"
    }
   ],
   "source": [
    "results=cur.execute(\"select * from em where id=109\")\n",
    "\n",
    "results.fetchone()"
   ]
  },
  {
   "cell_type": "code",
   "execution_count": 61,
   "id": "16bd730a",
   "metadata": {},
   "outputs": [
    {
     "name": "stdout",
     "output_type": "stream",
     "text": [
      "(103, 'Dorsay', 55)\n"
     ]
    }
   ],
   "source": [
    "results=cur.execute(\"select * from em where name='Dorsay'\")\n",
    "for i in results:\n",
    "    print(i)"
   ]
  },
  {
   "cell_type": "code",
   "execution_count": 62,
   "id": "4a134887",
   "metadata": {},
   "outputs": [
    {
     "data": {
      "text/plain": [
       "(103, 'Dorsay', 55)"
      ]
     },
     "execution_count": 62,
     "metadata": {},
     "output_type": "execute_result"
    }
   ],
   "source": [
    "results=cur.execute(\"select * from em where name='Dorsay'\")\n",
    "\n",
    "results.fetchone()"
   ]
  },
  {
   "cell_type": "code",
   "execution_count": 64,
   "id": "eaf1c4fb",
   "metadata": {},
   "outputs": [
    {
     "name": "stdout",
     "output_type": "stream",
     "text": [
      "(104, 'Swapnil', 78)\n"
     ]
    }
   ],
   "source": [
    "results=cur.execute(\"select * from em where name='Swapnil'\")\n",
    "for i in results:\n",
    "    print(i)"
   ]
  },
  {
   "cell_type": "code",
   "execution_count": 65,
   "id": "fd7d12b8",
   "metadata": {},
   "outputs": [
    {
     "data": {
      "text/plain": [
       "(104, 'Swapnil', 78)"
      ]
     },
     "execution_count": 65,
     "metadata": {},
     "output_type": "execute_result"
    }
   ],
   "source": [
    "results=cur.execute(\"select * from em where name='Swapnil'\")\n",
    "\n",
    "results.fetchone()"
   ]
  },
  {
   "cell_type": "code",
   "execution_count": 66,
   "id": "e467150a",
   "metadata": {},
   "outputs": [
    {
     "name": "stdout",
     "output_type": "stream",
     "text": [
      "(104, 'Swapnil', 78)\n"
     ]
    }
   ],
   "source": [
    "results=cur.execute(\"select * from em where marks=78\")\n",
    "for i in results:\n",
    "    print(i)"
   ]
  },
  {
   "cell_type": "code",
   "execution_count": 67,
   "id": "0b3cf06b",
   "metadata": {},
   "outputs": [
    {
     "data": {
      "text/plain": [
       "(103, 'Dorsay', 55)"
      ]
     },
     "execution_count": 67,
     "metadata": {},
     "output_type": "execute_result"
    }
   ],
   "source": [
    "results=cur.execute(\"select * from em where marks=55\")\n",
    "\n",
    "results.fetchone()"
   ]
  },
  {
   "cell_type": "code",
   "execution_count": 68,
   "id": "638c262d",
   "metadata": {},
   "outputs": [
    {
     "name": "stdout",
     "output_type": "stream",
     "text": [
      "(103, 'Dorsay', 55)\n",
      "(104, 'Swapnil', 78)\n"
     ]
    }
   ],
   "source": [
    "results=cur.execute(\"select * from em where name in ('Swapnil','Dorsay')\")\n",
    "for i in results:\n",
    "    print(i)"
   ]
  },
  {
   "cell_type": "code",
   "execution_count": 69,
   "id": "a959a18b",
   "metadata": {},
   "outputs": [
    {
     "name": "stdout",
     "output_type": "stream",
     "text": [
      "(101, 'John', 80)\n",
      "(104, 'Swapnil', 78)\n",
      "(108, 'Sanket', 79)\n"
     ]
    }
   ],
   "source": [
    "results=cur.execute(\"select * from em where id in (101,104,108)\")\n",
    "for i in results:\n",
    "    print(i)"
   ]
  },
  {
   "cell_type": "code",
   "execution_count": 70,
   "id": "96c80135",
   "metadata": {},
   "outputs": [
    {
     "name": "stdout",
     "output_type": "stream",
     "text": [
      "(101, 'John', 80)\n",
      "(103, 'Dorsay', 55)\n",
      "(104, 'Swapnil', 78)\n",
      "(107, 'Sushil', 73)\n",
      "(108, 'Sanket', 79)\n",
      "(109, 'Sayali', 88)\n",
      "(22, 'Sanjay', 59)\n",
      "(119, 'Sonya', 69)\n"
     ]
    }
   ],
   "source": [
    "results=cur.execute(\"select * from em\")\n",
    "for i in results:\n",
    "    print(i)"
   ]
  },
  {
   "cell_type": "code",
   "execution_count": 72,
   "id": "49cf703c",
   "metadata": {},
   "outputs": [
    {
     "name": "stdout",
     "output_type": "stream",
     "text": [
      "(103, 'Dorsay', 55)\n",
      "(101, 'John', 80)\n",
      "(22, 'Sanjay', 59)\n",
      "(108, 'Sanket', 79)\n",
      "(109, 'Sayali', 88)\n",
      "(119, 'Sonya', 69)\n",
      "(107, 'Sushil', 73)\n",
      "(104, 'Swapnil', 78)\n"
     ]
    }
   ],
   "source": [
    "results=cur.execute(\"select * from em order by name asc\")\n",
    "for i in results:\n",
    "    print(i)"
   ]
  },
  {
   "cell_type": "code",
   "execution_count": 73,
   "id": "e2ba5a07",
   "metadata": {},
   "outputs": [
    {
     "name": "stdout",
     "output_type": "stream",
     "text": [
      "(104, 'Swapnil', 78)\n",
      "(107, 'Sushil', 73)\n",
      "(119, 'Sonya', 69)\n",
      "(109, 'Sayali', 88)\n",
      "(108, 'Sanket', 79)\n",
      "(22, 'Sanjay', 59)\n",
      "(101, 'John', 80)\n",
      "(103, 'Dorsay', 55)\n"
     ]
    }
   ],
   "source": [
    "results=cur.execute(\"select * from em order by name desc\")\n",
    "for i in results:\n",
    "    print(i)"
   ]
  },
  {
   "cell_type": "code",
   "execution_count": null,
   "id": "1ca653d3",
   "metadata": {},
   "outputs": [],
   "source": []
  },
  {
   "cell_type": "code",
   "execution_count": 41,
   "id": "7ff56f03",
   "metadata": {},
   "outputs": [
    {
     "ename": "IntegrityError",
     "evalue": "UNIQUE constraint failed: em.id",
     "output_type": "error",
     "traceback": [
      "\u001b[1;31m---------------------------------------------------------------------------\u001b[0m",
      "\u001b[1;31mIntegrityError\u001b[0m                            Traceback (most recent call last)",
      "Input \u001b[1;32mIn [41]\u001b[0m, in \u001b[0;36m<cell line: 1>\u001b[1;34m()\u001b[0m\n\u001b[1;32m----> 1\u001b[0m \u001b[43mcur\u001b[49m\u001b[38;5;241;43m.\u001b[39;49m\u001b[43mexecute\u001b[49m\u001b[43m(\u001b[49m\u001b[38;5;124;43m\"\u001b[39;49m\u001b[38;5;124;43minsert into em values(107,\u001b[39;49m\u001b[38;5;124;43m'\u001b[39;49m\u001b[38;5;124;43mSushil\u001b[39;49m\u001b[38;5;124;43m'\u001b[39;49m\u001b[38;5;124;43m,73),(108,\u001b[39;49m\u001b[38;5;124;43m'\u001b[39;49m\u001b[38;5;124;43mSanket\u001b[39;49m\u001b[38;5;124;43m'\u001b[39;49m\u001b[38;5;124;43m,79),(109,\u001b[39;49m\u001b[38;5;124;43m'\u001b[39;49m\u001b[38;5;124;43mSayali\u001b[39;49m\u001b[38;5;124;43m'\u001b[39;49m\u001b[38;5;124;43m,88)\u001b[39;49m\u001b[38;5;124;43m\"\u001b[39;49m\u001b[43m)\u001b[49m\n\u001b[0;32m      2\u001b[0m db\u001b[38;5;241m.\u001b[39mcommit()\n",
      "\u001b[1;31mIntegrityError\u001b[0m: UNIQUE constraint failed: em.id"
     ]
    }
   ],
   "source": [
    "cur.execute(\"insert into em values(107,'Sushil',73),(108,'Sanket',79),(109,'Sayali',88)\")\n",
    "db.commit()"
   ]
  },
  {
   "cell_type": "code",
   "execution_count": null,
   "id": "401a6713",
   "metadata": {},
   "outputs": [],
   "source": []
  },
  {
   "cell_type": "code",
   "execution_count": null,
   "id": "c9b22c88",
   "metadata": {},
   "outputs": [],
   "source": []
  },
  {
   "cell_type": "code",
   "execution_count": null,
   "id": "8441ff0d",
   "metadata": {},
   "outputs": [],
   "source": []
  },
  {
   "cell_type": "code",
   "execution_count": null,
   "id": "1fe641e6",
   "metadata": {},
   "outputs": [],
   "source": []
  },
  {
   "cell_type": "code",
   "execution_count": 42,
   "id": "17c89964",
   "metadata": {
    "scrolled": true
   },
   "outputs": [
    {
     "ename": "IntegrityError",
     "evalue": "UNIQUE constraint failed: em.id",
     "output_type": "error",
     "traceback": [
      "\u001b[1;31m---------------------------------------------------------------------------\u001b[0m",
      "\u001b[1;31mIntegrityError\u001b[0m                            Traceback (most recent call last)",
      "Input \u001b[1;32mIn [42]\u001b[0m, in \u001b[0;36m<cell line: 1>\u001b[1;34m()\u001b[0m\n\u001b[1;32m----> 1\u001b[0m \u001b[43mcur\u001b[49m\u001b[38;5;241;43m.\u001b[39;49m\u001b[43mexecute\u001b[49m\u001b[43m(\u001b[49m\u001b[38;5;124;43m\"\u001b[39;49m\u001b[38;5;124;43minsert into em values(107,\u001b[39;49m\u001b[38;5;124;43m'\u001b[39;49m\u001b[38;5;124;43mSushil\u001b[39;49m\u001b[38;5;124;43m'\u001b[39;49m\u001b[38;5;124;43m,73),(108,\u001b[39;49m\u001b[38;5;124;43m'\u001b[39;49m\u001b[38;5;124;43mSanket\u001b[39;49m\u001b[38;5;124;43m'\u001b[39;49m\u001b[38;5;124;43m,79),(109,\u001b[39;49m\u001b[38;5;124;43m'\u001b[39;49m\u001b[38;5;124;43mSayali\u001b[39;49m\u001b[38;5;124;43m'\u001b[39;49m\u001b[38;5;124;43m,88)\u001b[39;49m\u001b[38;5;124;43m\"\u001b[39;49m\u001b[43m)\u001b[49m\n\u001b[0;32m      2\u001b[0m db\u001b[38;5;241m.\u001b[39mcommit()\n",
      "\u001b[1;31mIntegrityError\u001b[0m: UNIQUE constraint failed: em.id"
     ]
    }
   ],
   "source": [
    "cur.execute(\"insert into em values(107,'Sushil',73),(108,'Sanket',79),(109,'Sayali',88)\")\n",
    "db.commit()"
   ]
  },
  {
   "cell_type": "code",
   "execution_count": null,
   "id": "14b3f789",
   "metadata": {},
   "outputs": [],
   "source": []
  },
  {
   "cell_type": "code",
   "execution_count": null,
   "id": "bfc33d58",
   "metadata": {},
   "outputs": [],
   "source": []
  },
  {
   "cell_type": "code",
   "execution_count": null,
   "id": "b238b64b",
   "metadata": {},
   "outputs": [],
   "source": []
  },
  {
   "cell_type": "code",
   "execution_count": null,
   "id": "23b74d0a",
   "metadata": {},
   "outputs": [],
   "source": []
  },
  {
   "cell_type": "code",
   "execution_count": 4,
   "id": "f324044b",
   "metadata": {},
   "outputs": [
    {
     "ename": "NameError",
     "evalue": "name 'cur' is not defined",
     "output_type": "error",
     "traceback": [
      "\u001b[1;31m---------------------------------------------------------------------------\u001b[0m",
      "\u001b[1;31mNameError\u001b[0m                                 Traceback (most recent call last)",
      "Input \u001b[1;32mIn [4]\u001b[0m, in \u001b[0;36m<cell line: 1>\u001b[1;34m()\u001b[0m\n\u001b[1;32m----> 1\u001b[0m \u001b[43mcur\u001b[49m\u001b[38;5;241m.\u001b[39mexecute(\u001b[38;5;124m\"\u001b[39m\u001b[38;5;124minsert into emp(id,name,marks) values(106,\u001b[39m\u001b[38;5;124m'\u001b[39m\u001b[38;5;124mSarthak\u001b[39m\u001b[38;5;124m'\u001b[39m\u001b[38;5;124m,86)\u001b[39m\u001b[38;5;124m\"\u001b[39m)\n\u001b[0;32m      3\u001b[0m db\u001b[38;5;241m.\u001b[39mcommit()\n",
      "\u001b[1;31mNameError\u001b[0m: name 'cur' is not defined"
     ]
    }
   ],
   "source": [
    "cur.execute(\"insert into emp(id,name,marks) values(106,'Sarthak',86)\")\n",
    "\n",
    "db.commit()"
   ]
  },
  {
   "cell_type": "code",
   "execution_count": 3,
   "id": "9015b4fe",
   "metadata": {},
   "outputs": [
    {
     "ename": "NameError",
     "evalue": "name 'cur' is not defined",
     "output_type": "error",
     "traceback": [
      "\u001b[1;31m---------------------------------------------------------------------------\u001b[0m",
      "\u001b[1;31mNameError\u001b[0m                                 Traceback (most recent call last)",
      "Input \u001b[1;32mIn [3]\u001b[0m, in \u001b[0;36m<cell line: 1>\u001b[1;34m()\u001b[0m\n\u001b[1;32m----> 1\u001b[0m \u001b[43mcur\u001b[49m\u001b[38;5;241m.\u001b[39mexecute(\u001b[38;5;124m\"\u001b[39m\u001b[38;5;124minsert into emp(id,name,marks) values(105,\u001b[39m\u001b[38;5;124m'\u001b[39m\u001b[38;5;124mElon\u001b[39m\u001b[38;5;124m'\u001b[39m\u001b[38;5;124m,76)\u001b[39m\u001b[38;5;124m\"\u001b[39m)\n\u001b[0;32m      3\u001b[0m db\u001b[38;5;241m.\u001b[39mcommit()\n",
      "\u001b[1;31mNameError\u001b[0m: name 'cur' is not defined"
     ]
    }
   ],
   "source": [
    "cur.execute(\"insert into emp(id,name,marks) values(105,'Elon',76)\")\n",
    "\n",
    "db.commit()"
   ]
  },
  {
   "cell_type": "code",
   "execution_count": null,
   "id": "cd319044",
   "metadata": {},
   "outputs": [],
   "source": []
  },
  {
   "cell_type": "code",
   "execution_count": null,
   "id": "dfda599d",
   "metadata": {},
   "outputs": [],
   "source": []
  },
  {
   "cell_type": "code",
   "execution_count": null,
   "id": "e1d7f443",
   "metadata": {},
   "outputs": [],
   "source": []
  },
  {
   "cell_type": "code",
   "execution_count": null,
   "id": "46593bfe",
   "metadata": {},
   "outputs": [],
   "source": []
  },
  {
   "cell_type": "code",
   "execution_count": null,
   "id": "987bb23e",
   "metadata": {},
   "outputs": [],
   "source": []
  },
  {
   "cell_type": "code",
   "execution_count": null,
   "id": "f901821c",
   "metadata": {},
   "outputs": [],
   "source": []
  },
  {
   "cell_type": "code",
   "execution_count": 15,
   "id": "f20e52b9",
   "metadata": {},
   "outputs": [
    {
     "ename": "IntegrityError",
     "evalue": "UNIQUE constraint failed: emp.id",
     "output_type": "error",
     "traceback": [
      "\u001b[1;31m---------------------------------------------------------------------------\u001b[0m",
      "\u001b[1;31mIntegrityError\u001b[0m                            Traceback (most recent call last)",
      "Input \u001b[1;32mIn [15]\u001b[0m, in \u001b[0;36m<cell line: 1>\u001b[1;34m()\u001b[0m\n\u001b[1;32m----> 1\u001b[0m \u001b[43mcur\u001b[49m\u001b[38;5;241;43m.\u001b[39;49m\u001b[43mexecute\u001b[49m\u001b[43m(\u001b[49m\u001b[38;5;124;43m\"\u001b[39;49m\u001b[38;5;124;43minsert into emp(id,name,marks) values(102,\u001b[39;49m\u001b[38;5;124;43m'\u001b[39;49m\u001b[38;5;124;43mJack\u001b[39;49m\u001b[38;5;124;43m'\u001b[39;49m\u001b[38;5;124;43m,75)\u001b[39;49m\u001b[38;5;124;43m\"\u001b[39;49m\u001b[43m)\u001b[49m\n\u001b[0;32m      3\u001b[0m db\u001b[38;5;241m.\u001b[39mcommit()\n",
      "\u001b[1;31mIntegrityError\u001b[0m: UNIQUE constraint failed: emp.id"
     ]
    }
   ],
   "source": [
    "cur.execute(\"insert into emp(id,name,marks) values(102,'Jack',75)\")\n",
    "\n",
    "db.commit()"
   ]
  },
  {
   "cell_type": "code",
   "execution_count": null,
   "id": "fb11625e",
   "metadata": {},
   "outputs": [],
   "source": []
  }
 ],
 "metadata": {
  "kernelspec": {
   "display_name": "Python 3 (ipykernel)",
   "language": "python",
   "name": "python3"
  },
  "language_info": {
   "codemirror_mode": {
    "name": "ipython",
    "version": 3
   },
   "file_extension": ".py",
   "mimetype": "text/x-python",
   "name": "python",
   "nbconvert_exporter": "python",
   "pygments_lexer": "ipython3",
   "version": "3.9.12"
  }
 },
 "nbformat": 4,
 "nbformat_minor": 5
}
