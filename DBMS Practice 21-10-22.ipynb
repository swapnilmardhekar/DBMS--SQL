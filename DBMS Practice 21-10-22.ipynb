{
 "cells": [
  {
   "cell_type": "code",
   "execution_count": 1,
   "id": "6f8d5f3d",
   "metadata": {},
   "outputs": [],
   "source": [
    "import sqlite3"
   ]
  },
  {
   "cell_type": "code",
   "execution_count": 21,
   "id": "07c36916",
   "metadata": {},
   "outputs": [],
   "source": [
    "db=sqlite3.connect(\"stockdata.db\")"
   ]
  },
  {
   "cell_type": "code",
   "execution_count": 22,
   "id": "c72a5464",
   "metadata": {},
   "outputs": [],
   "source": [
    "cur=db.cursor()"
   ]
  },
  {
   "cell_type": "code",
   "execution_count": 30,
   "id": "62617135",
   "metadata": {},
   "outputs": [],
   "source": [
    "def tata1(db,info):\n",
    "    cur=db.cursor()\n",
    "    cur.execute('insert into tata1 (date,open,high,low,Last,close,tradeqnt,turnover) values(?,?,?,?,?,?,?,?)',info)"
   ]
  },
  {
   "cell_type": "code",
   "execution_count": 31,
   "id": "33eba58c",
   "metadata": {},
   "outputs": [],
   "source": [
    "info = ('10/07/13',154.2,160.2,158.25,164,162,1880046,2688.94)"
   ]
  },
  {
   "cell_type": "code",
   "execution_count": 32,
   "id": "fcdc1820",
   "metadata": {},
   "outputs": [],
   "source": [
    "data = cur.execute(\"select * from tata1 where date='10/07/13'\")"
   ]
  },
  {
   "cell_type": "code",
   "execution_count": 33,
   "id": "3ac7a268",
   "metadata": {},
   "outputs": [],
   "source": [
    "tata1(db,info)"
   ]
  },
  {
   "cell_type": "code",
   "execution_count": 34,
   "id": "841b6799",
   "metadata": {},
   "outputs": [],
   "source": [
    "data= cur.execute(\"select * from tata1 where date='10/07/13'\")"
   ]
  },
  {
   "cell_type": "code",
   "execution_count": 35,
   "id": "238cc6e0",
   "metadata": {},
   "outputs": [
    {
     "data": {
      "text/plain": [
       "('10/07/13', 154.2, 160.2, 158.25, 164.0, 162.0, 1880046, 2688.94)"
      ]
     },
     "execution_count": 35,
     "metadata": {},
     "output_type": "execute_result"
    }
   ],
   "source": [
    "data.fetchone()"
   ]
  },
  {
   "cell_type": "code",
   "execution_count": 36,
   "id": "4321720c",
   "metadata": {},
   "outputs": [],
   "source": [
    "info = ('10/06/13',159.9,157.2,154.75,166,158.1,1883046,2698.77)"
   ]
  },
  {
   "cell_type": "code",
   "execution_count": 37,
   "id": "c765c0e1",
   "metadata": {},
   "outputs": [],
   "source": [
    "tata1(db,info)"
   ]
  },
  {
   "cell_type": "code",
   "execution_count": 45,
   "id": "0f2be8d5",
   "metadata": {},
   "outputs": [],
   "source": [
    "data = cur.execute(\"select * from tata1 where date='10/06/13'\")"
   ]
  },
  {
   "cell_type": "code",
   "execution_count": 46,
   "id": "9c4c96d3",
   "metadata": {
    "scrolled": true
   },
   "outputs": [
    {
     "data": {
      "text/plain": [
       "('10/06/13', 159.9, 157.2, 154.75, 166.0, 158.1, 1883046, 2698.77)"
      ]
     },
     "execution_count": 46,
     "metadata": {},
     "output_type": "execute_result"
    }
   ],
   "source": [
    "data.fetchone()"
   ]
  },
  {
   "cell_type": "code",
   "execution_count": null,
   "id": "7057e262",
   "metadata": {},
   "outputs": [],
   "source": []
  }
 ],
 "metadata": {
  "kernelspec": {
   "display_name": "Python 3 (ipykernel)",
   "language": "python",
   "name": "python3"
  },
  "language_info": {
   "codemirror_mode": {
    "name": "ipython",
    "version": 3
   },
   "file_extension": ".py",
   "mimetype": "text/x-python",
   "name": "python",
   "nbconvert_exporter": "python",
   "pygments_lexer": "ipython3",
   "version": "3.9.12"
  }
 },
 "nbformat": 4,
 "nbformat_minor": 5
}
