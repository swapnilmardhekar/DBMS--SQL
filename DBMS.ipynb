{
 "cells": [
  {
   "cell_type": "markdown",
   "id": "f03206bd",
   "metadata": {},
   "source": [
    "DBMS (dataBase Management system)"
   ]
  },
  {
   "cell_type": "code",
   "execution_count": 3,
   "id": "4f617bc3",
   "metadata": {},
   "outputs": [],
   "source": [
    "# Connect\n",
    "# Cursor\n",
    "# Execute\n",
    "# Commit"
   ]
  },
  {
   "cell_type": "code",
   "execution_count": 4,
   "id": "716557bf",
   "metadata": {},
   "outputs": [],
   "source": [
    "import sqlite3"
   ]
  },
  {
   "cell_type": "code",
   "execution_count": 5,
   "id": "46ae70f6",
   "metadata": {},
   "outputs": [],
   "source": [
    "db = sqlite3.connect('studentdabase.db')"
   ]
  },
  {
   "cell_type": "code",
   "execution_count": 7,
   "id": "82a30a2e",
   "metadata": {},
   "outputs": [
    {
     "data": {
      "text/plain": [
       "<sqlite3.Connection at 0x21bf52a3e40>"
      ]
     },
     "execution_count": 7,
     "metadata": {},
     "output_type": "execute_result"
    }
   ],
   "source": [
    "db"
   ]
  },
  {
   "cell_type": "code",
   "execution_count": 8,
   "id": "703a475c",
   "metadata": {},
   "outputs": [],
   "source": [
    "cur = db.cursor()"
   ]
  },
  {
   "cell_type": "code",
   "execution_count": 14,
   "id": "1490c5cb",
   "metadata": {},
   "outputs": [
    {
     "data": {
      "text/plain": [
       "<sqlite3.Cursor at 0x21bf52d2a40>"
      ]
     },
     "execution_count": 14,
     "metadata": {},
     "output_type": "execute_result"
    }
   ],
   "source": [
    "cur.execute('create table st_data(id int primary key, name text , marks int)')"
   ]
  },
  {
   "cell_type": "code",
   "execution_count": 32,
   "id": "e6ff8ab1",
   "metadata": {},
   "outputs": [
    {
     "data": {
      "text/plain": [
       "<sqlite3.Cursor at 0x21bf52d2a40>"
      ]
     },
     "execution_count": 32,
     "metadata": {},
     "output_type": "execute_result"
    }
   ],
   "source": [
    "cur.execute('insert into st_data(id,name,marks) values(1,\"sarthak\",99)')"
   ]
  },
  {
   "cell_type": "code",
   "execution_count": 33,
   "id": "7374d635",
   "metadata": {},
   "outputs": [],
   "source": [
    "db.commit()"
   ]
  },
  {
   "cell_type": "code",
   "execution_count": 34,
   "id": "c1a8b593",
   "metadata": {},
   "outputs": [
    {
     "data": {
      "text/plain": [
       "<sqlite3.Connection at 0x21bf52a3e40>"
      ]
     },
     "execution_count": 34,
     "metadata": {},
     "output_type": "execute_result"
    }
   ],
   "source": [
    "db"
   ]
  },
  {
   "cell_type": "code",
   "execution_count": 37,
   "id": "42e83d25",
   "metadata": {},
   "outputs": [
    {
     "data": {
      "text/plain": [
       "<sqlite3.Cursor at 0x21bf52d2a40>"
      ]
     },
     "execution_count": 37,
     "metadata": {},
     "output_type": "execute_result"
    }
   ],
   "source": [
    "cur.execute('insert into st_data(id,name,marks) values(7,\"john\",87)')"
   ]
  },
  {
   "cell_type": "code",
   "execution_count": 36,
   "id": "85992834",
   "metadata": {},
   "outputs": [],
   "source": [
    "db.commit()"
   ]
  },
  {
   "cell_type": "code",
   "execution_count": 24,
   "id": "2a313c16",
   "metadata": {},
   "outputs": [
    {
     "data": {
      "text/plain": [
       "<sqlite3.Cursor at 0x21bf52d2a40>"
      ]
     },
     "execution_count": 24,
     "metadata": {},
     "output_type": "execute_result"
    }
   ],
   "source": [
    "cur.execute('insert into st_data(id,name,marks) values(3,\"harry\",97)')"
   ]
  },
  {
   "cell_type": "code",
   "execution_count": 25,
   "id": "be158b1f",
   "metadata": {},
   "outputs": [],
   "source": [
    "db.commit()"
   ]
  },
  {
   "cell_type": "code",
   "execution_count": 26,
   "id": "1ec28817",
   "metadata": {},
   "outputs": [
    {
     "data": {
      "text/plain": [
       "<sqlite3.Cursor at 0x21bf52d2a40>"
      ]
     },
     "execution_count": 26,
     "metadata": {},
     "output_type": "execute_result"
    }
   ],
   "source": [
    "cur.execute('insert into st_data values(4,\"jos\",67)')"
   ]
  },
  {
   "cell_type": "code",
   "execution_count": 27,
   "id": "6b0fd4cf",
   "metadata": {},
   "outputs": [],
   "source": [
    "db.commit()"
   ]
  },
  {
   "cell_type": "code",
   "execution_count": 28,
   "id": "6ada3b94",
   "metadata": {},
   "outputs": [
    {
     "data": {
      "text/plain": [
       "<sqlite3.Connection at 0x21bf52a3e40>"
      ]
     },
     "execution_count": 28,
     "metadata": {},
     "output_type": "execute_result"
    }
   ],
   "source": [
    "db"
   ]
  },
  {
   "cell_type": "code",
   "execution_count": 40,
   "id": "f54475a8",
   "metadata": {},
   "outputs": [],
   "source": [
    "data1 = cur.execute('select * from st_data')"
   ]
  },
  {
   "cell_type": "code",
   "execution_count": 41,
   "id": "b8385036",
   "metadata": {},
   "outputs": [
    {
     "name": "stdout",
     "output_type": "stream",
     "text": [
      "(2, 'john', 87)\n",
      "(3, 'harry', 97)\n",
      "(4, 'jos', 67)\n",
      "(1, 'sarthak', 99)\n",
      "(7, 'john', 87)\n"
     ]
    }
   ],
   "source": [
    "for i in data1:\n",
    "    print(i)"
   ]
  },
  {
   "cell_type": "code",
   "execution_count": 42,
   "id": "2ba816b3",
   "metadata": {},
   "outputs": [
    {
     "data": {
      "text/plain": [
       "<sqlite3.Cursor at 0x21bf52d2a40>"
      ]
     },
     "execution_count": 42,
     "metadata": {},
     "output_type": "execute_result"
    }
   ],
   "source": [
    "cur.execute('insert into st_data values(6,\"michel\",88)')"
   ]
  },
  {
   "cell_type": "code",
   "execution_count": 44,
   "id": "ff6e94ca",
   "metadata": {},
   "outputs": [],
   "source": [
    "db.commit()"
   ]
  },
  {
   "cell_type": "code",
   "execution_count": 45,
   "id": "9e9426b2",
   "metadata": {},
   "outputs": [
    {
     "data": {
      "text/plain": [
       "<sqlite3.Connection at 0x21bf52a3e40>"
      ]
     },
     "execution_count": 45,
     "metadata": {},
     "output_type": "execute_result"
    }
   ],
   "source": [
    "db"
   ]
  },
  {
   "cell_type": "code",
   "execution_count": 46,
   "id": "6f1cde82",
   "metadata": {},
   "outputs": [],
   "source": [
    "alldata = cur.execute('select * from st_data')"
   ]
  },
  {
   "cell_type": "code",
   "execution_count": 48,
   "id": "930c9f8c",
   "metadata": {},
   "outputs": [
    {
     "data": {
      "text/plain": [
       "[(2, 'john', 87),\n",
       " (3, 'harry', 97),\n",
       " (4, 'jos', 67),\n",
       " (1, 'sarthak', 99),\n",
       " (7, 'john', 87),\n",
       " (6, 'michel', 88)]"
      ]
     },
     "execution_count": 48,
     "metadata": {},
     "output_type": "execute_result"
    }
   ],
   "source": [
    "alldata.fetchall()"
   ]
  },
  {
   "cell_type": "code",
   "execution_count": 49,
   "id": "b6fa6005",
   "metadata": {},
   "outputs": [],
   "source": [
    "seldata = cur.execute('select * from st_data where id = 1')"
   ]
  },
  {
   "cell_type": "code",
   "execution_count": 50,
   "id": "1d6bc226",
   "metadata": {},
   "outputs": [
    {
     "data": {
      "text/plain": [
       "(1, 'sarthak', 99)"
      ]
     },
     "execution_count": 50,
     "metadata": {},
     "output_type": "execute_result"
    }
   ],
   "source": [
    "seldata.fetchone()"
   ]
  },
  {
   "cell_type": "code",
   "execution_count": 70,
   "id": "ae8a63a2",
   "metadata": {},
   "outputs": [],
   "source": [
    "#CREATING USER DATA TABLE"
   ]
  },
  {
   "cell_type": "code",
   "execution_count": 71,
   "id": "07fa3666",
   "metadata": {},
   "outputs": [
    {
     "data": {
      "text/plain": [
       "' Database = userdb\\n    table = facebook\\n'"
      ]
     },
     "execution_count": 71,
     "metadata": {},
     "output_type": "execute_result"
    }
   ],
   "source": [
    "''' Database = userdb\n",
    "    table = facebook\n",
    "'''"
   ]
  },
  {
   "cell_type": "code",
   "execution_count": 52,
   "id": "75afb8a9",
   "metadata": {},
   "outputs": [],
   "source": [
    "userdb = sqlite3.connect('userdata.db')"
   ]
  },
  {
   "cell_type": "code",
   "execution_count": 53,
   "id": "fb1a3be8",
   "metadata": {},
   "outputs": [],
   "source": [
    "cursor = userdb.cursor()"
   ]
  },
  {
   "cell_type": "code",
   "execution_count": 54,
   "id": "9603f76f",
   "metadata": {},
   "outputs": [
    {
     "data": {
      "text/plain": [
       "<sqlite3.Cursor at 0x21bf53f1a40>"
      ]
     },
     "execution_count": 54,
     "metadata": {},
     "output_type": "execute_result"
    }
   ],
   "source": [
    "cursor"
   ]
  },
  {
   "cell_type": "code",
   "execution_count": 55,
   "id": "b26f955e",
   "metadata": {},
   "outputs": [
    {
     "data": {
      "text/plain": [
       "<sqlite3.Cursor at 0x21bf53f1a40>"
      ]
     },
     "execution_count": 55,
     "metadata": {},
     "output_type": "execute_result"
    }
   ],
   "source": [
    "cursor.execute('create table facebook(userid int primary key,username text,password complex)')"
   ]
  },
  {
   "cell_type": "code",
   "execution_count": 56,
   "id": "29973b85",
   "metadata": {},
   "outputs": [],
   "source": [
    "userdb.commit()"
   ]
  },
  {
   "cell_type": "code",
   "execution_count": 57,
   "id": "cc7cae1d",
   "metadata": {},
   "outputs": [
    {
     "data": {
      "text/plain": [
       "<sqlite3.Connection at 0x21bf5437210>"
      ]
     },
     "execution_count": 57,
     "metadata": {},
     "output_type": "execute_result"
    }
   ],
   "source": [
    "userdb"
   ]
  },
  {
   "cell_type": "code",
   "execution_count": 59,
   "id": "e2cbf886",
   "metadata": {},
   "outputs": [
    {
     "data": {
      "text/plain": [
       "<sqlite3.Cursor at 0x21bf53f1a40>"
      ]
     },
     "execution_count": 59,
     "metadata": {},
     "output_type": "execute_result"
    }
   ],
   "source": [
    "cursor.execute('insert into facebook(userid,username,password) values(3624,\"nick\",\"nick@43\")')"
   ]
  },
  {
   "cell_type": "code",
   "execution_count": 60,
   "id": "3f76abcc",
   "metadata": {},
   "outputs": [],
   "source": [
    "userdb.commit()"
   ]
  },
  {
   "cell_type": "code",
   "execution_count": 61,
   "id": "8aaa2e3c",
   "metadata": {},
   "outputs": [
    {
     "data": {
      "text/plain": [
       "<sqlite3.Connection at 0x21bf5437210>"
      ]
     },
     "execution_count": 61,
     "metadata": {},
     "output_type": "execute_result"
    }
   ],
   "source": [
    "userdb"
   ]
  },
  {
   "cell_type": "code",
   "execution_count": 62,
   "id": "b8d6a5de",
   "metadata": {},
   "outputs": [
    {
     "data": {
      "text/plain": [
       "<sqlite3.Cursor at 0x21bf53f1a40>"
      ]
     },
     "execution_count": 62,
     "metadata": {},
     "output_type": "execute_result"
    }
   ],
   "source": [
    "cursor.execute('insert into facebook(userid,username,password) values(8126,\"jos\",\"jb.82@josh\")')"
   ]
  },
  {
   "cell_type": "code",
   "execution_count": 63,
   "id": "2cc49c45",
   "metadata": {},
   "outputs": [],
   "source": [
    "userdb.commit()"
   ]
  },
  {
   "cell_type": "code",
   "execution_count": 64,
   "id": "90dab601",
   "metadata": {},
   "outputs": [
    {
     "data": {
      "text/plain": [
       "<sqlite3.Connection at 0x21bf5437210>"
      ]
     },
     "execution_count": 64,
     "metadata": {},
     "output_type": "execute_result"
    }
   ],
   "source": [
    "userdb"
   ]
  },
  {
   "cell_type": "code",
   "execution_count": 65,
   "id": "5446ddb9",
   "metadata": {},
   "outputs": [
    {
     "data": {
      "text/plain": [
       "<sqlite3.Cursor at 0x21bf53f1a40>"
      ]
     },
     "execution_count": 65,
     "metadata": {},
     "output_type": "execute_result"
    }
   ],
   "source": [
    "cursor.execute('insert into facebook(userid,username,password) values(5648,\"michel\",\"michel@24\")')"
   ]
  },
  {
   "cell_type": "code",
   "execution_count": 67,
   "id": "20120618",
   "metadata": {},
   "outputs": [],
   "source": [
    "userdb.commit()"
   ]
  },
  {
   "cell_type": "code",
   "execution_count": 68,
   "id": "c672286a",
   "metadata": {
    "scrolled": true
   },
   "outputs": [
    {
     "data": {
      "text/plain": [
       "<sqlite3.Connection at 0x21bf5437210>"
      ]
     },
     "execution_count": 68,
     "metadata": {},
     "output_type": "execute_result"
    }
   ],
   "source": [
    "userdb"
   ]
  },
  {
   "cell_type": "code",
   "execution_count": 72,
   "id": "cef85c8b",
   "metadata": {},
   "outputs": [
    {
     "data": {
      "text/plain": [
       "<sqlite3.Cursor at 0x21bf53f1a40>"
      ]
     },
     "execution_count": 72,
     "metadata": {},
     "output_type": "execute_result"
    }
   ],
   "source": [
    "cursor.execute('insert into facebook values(9932,\"tom\",\"fb_tom@76\")')"
   ]
  },
  {
   "cell_type": "code",
   "execution_count": 73,
   "id": "d6e2af8a",
   "metadata": {},
   "outputs": [],
   "source": [
    "userdb.commit()"
   ]
  },
  {
   "cell_type": "code",
   "execution_count": 74,
   "id": "cbb92cf7",
   "metadata": {},
   "outputs": [
    {
     "data": {
      "text/plain": [
       "<sqlite3.Connection at 0x21bf5437210>"
      ]
     },
     "execution_count": 74,
     "metadata": {},
     "output_type": "execute_result"
    }
   ],
   "source": [
    "userdb"
   ]
  },
  {
   "cell_type": "code",
   "execution_count": 76,
   "id": "ebc8d7c5",
   "metadata": {},
   "outputs": [
    {
     "data": {
      "text/plain": [
       "<sqlite3.Cursor at 0x21bf53f1a40>"
      ]
     },
     "execution_count": 76,
     "metadata": {},
     "output_type": "execute_result"
    }
   ],
   "source": [
    "cursor.execute('insert into facebook values(3189,\"paul\",\"ui.paul/fb\"),(5629,\"roman\",\"us@roman99\")')"
   ]
  },
  {
   "cell_type": "code",
   "execution_count": 77,
   "id": "bbaf2adc",
   "metadata": {},
   "outputs": [],
   "source": [
    "userdb.commit()"
   ]
  },
  {
   "cell_type": "code",
   "execution_count": 78,
   "id": "96b294b4",
   "metadata": {},
   "outputs": [
    {
     "data": {
      "text/plain": [
       "<sqlite3.Connection at 0x21bf5437210>"
      ]
     },
     "execution_count": 78,
     "metadata": {},
     "output_type": "execute_result"
    }
   ],
   "source": [
    "userdb"
   ]
  },
  {
   "cell_type": "code",
   "execution_count": 79,
   "id": "55930346",
   "metadata": {},
   "outputs": [],
   "source": [
    "alldata = cursor.execute('select * from facebook')"
   ]
  },
  {
   "cell_type": "code",
   "execution_count": 80,
   "id": "1aa3a4c2",
   "metadata": {},
   "outputs": [
    {
     "name": "stdout",
     "output_type": "stream",
     "text": [
      "(3624, 'nick', 'nick@43')\n",
      "(8126, 'jos', 'jb.82@josh')\n",
      "(5648, 'michel', 'michel@24')\n",
      "(9932, 'tom', 'fb_tom@76')\n",
      "(3189, 'paul', 'ui.paul/fb')\n",
      "(5629, 'roman', 'us@roman99')\n"
     ]
    }
   ],
   "source": [
    "for i in alldata:\n",
    "    print(i)"
   ]
  },
  {
   "cell_type": "code",
   "execution_count": 81,
   "id": "69d50dbb",
   "metadata": {},
   "outputs": [],
   "source": [
    "alldata = cursor.execute('select * from facebook where userid=3189')"
   ]
  },
  {
   "cell_type": "code",
   "execution_count": 82,
   "id": "8fb4d68c",
   "metadata": {},
   "outputs": [
    {
     "data": {
      "text/plain": [
       "(3189, 'paul', 'ui.paul/fb')"
      ]
     },
     "execution_count": 82,
     "metadata": {},
     "output_type": "execute_result"
    }
   ],
   "source": [
    "alldata.fetchone()"
   ]
  },
  {
   "cell_type": "code",
   "execution_count": 83,
   "id": "d4cd0635",
   "metadata": {},
   "outputs": [],
   "source": [
    "alldata = cursor.execute('select password from facebook')"
   ]
  },
  {
   "cell_type": "code",
   "execution_count": 85,
   "id": "e58bf8e1",
   "metadata": {},
   "outputs": [
    {
     "data": {
      "text/plain": [
       "[('jb.82@josh',),\n",
       " ('michel@24',),\n",
       " ('fb_tom@76',),\n",
       " ('ui.paul/fb',),\n",
       " ('us@roman99',)]"
      ]
     },
     "execution_count": 85,
     "metadata": {},
     "output_type": "execute_result"
    }
   ],
   "source": [
    "alldata.fetchall()"
   ]
  },
  {
   "cell_type": "code",
   "execution_count": 87,
   "id": "48c36515",
   "metadata": {},
   "outputs": [],
   "source": [
    "alldata = cursor.execute('select password from facebook')"
   ]
  },
  {
   "cell_type": "code",
   "execution_count": 88,
   "id": "6f982f08",
   "metadata": {},
   "outputs": [
    {
     "data": {
      "text/plain": [
       "('nick@43',)"
      ]
     },
     "execution_count": 88,
     "metadata": {},
     "output_type": "execute_result"
    }
   ],
   "source": [
    "alldata.fetchone()"
   ]
  },
  {
   "cell_type": "code",
   "execution_count": 89,
   "id": "18cb4065",
   "metadata": {},
   "outputs": [],
   "source": [
    "alldata = cursor.execute('select password from facebook where username in (\"jos\",\"paul\",\"michel\")')"
   ]
  },
  {
   "cell_type": "code",
   "execution_count": 90,
   "id": "4568cd6b",
   "metadata": {},
   "outputs": [
    {
     "data": {
      "text/plain": [
       "[('jb.82@josh',), ('michel@24',), ('ui.paul/fb',)]"
      ]
     },
     "execution_count": 90,
     "metadata": {},
     "output_type": "execute_result"
    }
   ],
   "source": [
    "alldata.fetchall()"
   ]
  },
  {
   "cell_type": "code",
   "execution_count": 91,
   "id": "2952c658",
   "metadata": {},
   "outputs": [],
   "source": [
    "alldata = cursor.execute('select * from facebook where userid in (3624,9932,3189)')"
   ]
  },
  {
   "cell_type": "code",
   "execution_count": 92,
   "id": "2ad24004",
   "metadata": {},
   "outputs": [
    {
     "data": {
      "text/plain": [
       "[(3189, 'paul', 'ui.paul/fb'),\n",
       " (3624, 'nick', 'nick@43'),\n",
       " (9932, 'tom', 'fb_tom@76')]"
      ]
     },
     "execution_count": 92,
     "metadata": {},
     "output_type": "execute_result"
    }
   ],
   "source": [
    "alldata.fetchall()"
   ]
  },
  {
   "cell_type": "code",
   "execution_count": 94,
   "id": "9e066cf9",
   "metadata": {},
   "outputs": [],
   "source": [
    "alldata = cursor.execute('select * from facebook order by userid')"
   ]
  },
  {
   "cell_type": "code",
   "execution_count": 96,
   "id": "6933d5b3",
   "metadata": {
    "scrolled": true
   },
   "outputs": [
    {
     "data": {
      "text/plain": [
       "[(3189, 'paul', 'ui.paul/fb'),\n",
       " (3624, 'nick', 'nick@43'),\n",
       " (5629, 'roman', 'us@roman99'),\n",
       " (5648, 'michel', 'michel@24'),\n",
       " (8126, 'jos', 'jb.82@josh'),\n",
       " (9932, 'tom', 'fb_tom@76')]"
      ]
     },
     "execution_count": 96,
     "metadata": {},
     "output_type": "execute_result"
    }
   ],
   "source": [
    "alldata.fetchall()"
   ]
  },
  {
   "cell_type": "code",
   "execution_count": 97,
   "id": "2377c2ea",
   "metadata": {},
   "outputs": [],
   "source": [
    "alldata = cursor.execute('select * from facebook order by username asc')"
   ]
  },
  {
   "cell_type": "code",
   "execution_count": 98,
   "id": "dfa17cfc",
   "metadata": {},
   "outputs": [
    {
     "data": {
      "text/plain": [
       "[(8126, 'jos', 'jb.82@josh'),\n",
       " (5648, 'michel', 'michel@24'),\n",
       " (3624, 'nick', 'nick@43'),\n",
       " (3189, 'paul', 'ui.paul/fb'),\n",
       " (5629, 'roman', 'us@roman99'),\n",
       " (9932, 'tom', 'fb_tom@76')]"
      ]
     },
     "execution_count": 98,
     "metadata": {},
     "output_type": "execute_result"
    }
   ],
   "source": [
    "alldata.fetchall()"
   ]
  },
  {
   "cell_type": "code",
   "execution_count": 99,
   "id": "e84f1b23",
   "metadata": {},
   "outputs": [],
   "source": [
    "alldata = cursor.execute('select * from facebook order by userid asc')"
   ]
  },
  {
   "cell_type": "code",
   "execution_count": 100,
   "id": "a2532bd6",
   "metadata": {},
   "outputs": [
    {
     "data": {
      "text/plain": [
       "[(3189, 'paul', 'ui.paul/fb'),\n",
       " (3624, 'nick', 'nick@43'),\n",
       " (5629, 'roman', 'us@roman99'),\n",
       " (5648, 'michel', 'michel@24'),\n",
       " (8126, 'jos', 'jb.82@josh'),\n",
       " (9932, 'tom', 'fb_tom@76')]"
      ]
     },
     "execution_count": 100,
     "metadata": {},
     "output_type": "execute_result"
    }
   ],
   "source": [
    "alldata.fetchall()"
   ]
  },
  {
   "cell_type": "code",
   "execution_count": 101,
   "id": "4c7c961a",
   "metadata": {},
   "outputs": [],
   "source": [
    "alldata = cursor.execute('select * from facebook order by username')"
   ]
  },
  {
   "cell_type": "code",
   "execution_count": 1,
   "id": "b3ef4ac8",
   "metadata": {},
   "outputs": [
    {
     "ename": "NameError",
     "evalue": "name 'alldata' is not defined",
     "output_type": "error",
     "traceback": [
      "\u001b[1;31m---------------------------------------------------------------------------\u001b[0m",
      "\u001b[1;31mNameError\u001b[0m                                 Traceback (most recent call last)",
      "Input \u001b[1;32mIn [1]\u001b[0m, in \u001b[0;36m<cell line: 1>\u001b[1;34m()\u001b[0m\n\u001b[1;32m----> 1\u001b[0m \u001b[43malldata\u001b[49m\u001b[38;5;241m.\u001b[39mfetchall()\n",
      "\u001b[1;31mNameError\u001b[0m: name 'alldata' is not defined"
     ]
    }
   ],
   "source": [
    "alldata.fetchall()\n"
   ]
  },
  {
   "cell_type": "code",
   "execution_count": null,
   "id": "c9cb707b",
   "metadata": {},
   "outputs": [],
   "source": [
    "db=sqlite"
   ]
  }
 ],
 "metadata": {
  "kernelspec": {
   "display_name": "Python 3 (ipykernel)",
   "language": "python",
   "name": "python3"
  },
  "language_info": {
   "codemirror_mode": {
    "name": "ipython",
    "version": 3
   },
   "file_extension": ".py",
   "mimetype": "text/x-python",
   "name": "python",
   "nbconvert_exporter": "python",
   "pygments_lexer": "ipython3",
   "version": "3.9.12"
  }
 },
 "nbformat": 4,
 "nbformat_minor": 5
}
