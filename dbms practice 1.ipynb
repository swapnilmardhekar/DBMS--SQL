{
 "cells": [
  {
   "cell_type": "code",
   "execution_count": 1,
   "id": "26c4b961",
   "metadata": {},
   "outputs": [],
   "source": [
    "import sqlite3"
   ]
  },
  {
   "cell_type": "code",
   "execution_count": 2,
   "id": "5d3765e0",
   "metadata": {},
   "outputs": [],
   "source": [
    "db= sqlite3.connect('resultdata.db')"
   ]
  },
  {
   "cell_type": "code",
   "execution_count": 3,
   "id": "f3dba51b",
   "metadata": {},
   "outputs": [],
   "source": [
    "cur= db.cursor()"
   ]
  },
  {
   "cell_type": "code",
   "execution_count": 4,
   "id": "5c4027a4",
   "metadata": {},
   "outputs": [
    {
     "data": {
      "text/plain": [
       "<sqlite3.Cursor at 0x1f6a0c147a0>"
      ]
     },
     "execution_count": 4,
     "metadata": {},
     "output_type": "execute_result"
    }
   ],
   "source": [
    "cur.execute('create table grdinfo(grade text primary key, remark text, marks text)')"
   ]
  },
  {
   "cell_type": "code",
   "execution_count": 5,
   "id": "95e1b47c",
   "metadata": {},
   "outputs": [
    {
     "name": "stdout",
     "output_type": "stream",
     "text": [
      "7\n"
     ]
    }
   ],
   "source": [
    "with open('GRADE-INFO.csv', 'r') as file:\n",
    "    records=0\n",
    "    for row in file:\n",
    "        cur.execute('insert into grdinfo values(?,?,?)', row.split(','))\n",
    "        db.commit()\n",
    "        records+=1\n",
    "print(records)        "
   ]
  },
  {
   "cell_type": "code",
   "execution_count": 6,
   "id": "27908bc4",
   "metadata": {},
   "outputs": [
    {
     "data": {
      "text/plain": [
       "<sqlite3.Cursor at 0x1f6a0c147a0>"
      ]
     },
     "execution_count": 6,
     "metadata": {},
     "output_type": "execute_result"
    }
   ],
   "source": [
    "cur.execute('create table std(grade text primary key, rollno int, name text, foreign key(grade) references grdinfo(grade))')"
   ]
  },
  {
   "cell_type": "code",
   "execution_count": 7,
   "id": "eb948805",
   "metadata": {},
   "outputs": [
    {
     "name": "stdout",
     "output_type": "stream",
     "text": [
      "5\n"
     ]
    }
   ],
   "source": [
    "with open('NAUGHTYSTD.csv', 'r') as file:\n",
    "    records=0\n",
    "    for row in file:\n",
    "        cur.execute('insert into std values(?,?,?)', row.split(','))\n",
    "        db.commit()\n",
    "        records+=1\n",
    "print(records) "
   ]
  },
  {
   "cell_type": "code",
   "execution_count": 8,
   "id": "5bbe9a4d",
   "metadata": {},
   "outputs": [
    {
     "data": {
      "text/plain": [
       "[('A+', 22, 'ARYAN SANTOSH SHITOLE\\n')]"
      ]
     },
     "execution_count": 8,
     "metadata": {},
     "output_type": "execute_result"
    }
   ],
   "source": [
    "result= cur.execute('select * from std where grade=(select grade from grdinfo where remark=\"VERY GOOD\")')\n",
    "result.fetchall()"
   ]
  },
  {
   "cell_type": "code",
   "execution_count": 11,
   "id": "390407fe",
   "metadata": {},
   "outputs": [
    {
     "data": {
      "text/plain": [
       "[('A', 1, 'AARVI VIKRAM PATIL\\n')]"
      ]
     },
     "execution_count": 11,
     "metadata": {},
     "output_type": "execute_result"
    }
   ],
   "source": [
    "result= cur.execute('select * from std where grade=(select grade from grdinfo where marks=\"80+\\n\")')\n",
    "result.fetchall()"
   ]
  },
  {
   "cell_type": "code",
   "execution_count": 10,
   "id": "80d35dbb",
   "metadata": {},
   "outputs": [
    {
     "data": {
      "text/plain": [
       "[('A+', 'VERY GOOD', '90+\\n'),\n",
       " ('A', 'GOOD', '80+\\n'),\n",
       " ('B+', 'AVERAGE', '70+\\n'),\n",
       " ('B', 'OKAY', '60+\\n'),\n",
       " ('C+', 'NOT BAD', '70+\\n'),\n",
       " ('C', 'BAD', '50+\\n'),\n",
       " ('ABS', 'ABSENT', '0\\n')]"
      ]
     },
     "execution_count": 10,
     "metadata": {},
     "output_type": "execute_result"
    }
   ],
   "source": [
    "result = cur.execute('select * from grdinfo')\n",
    "result.fetchall()"
   ]
  },
  {
   "cell_type": "code",
   "execution_count": 12,
   "id": "dda9126a",
   "metadata": {},
   "outputs": [
    {
     "data": {
      "text/plain": [
       "[('A+', 'VERY GOOD', 22, 'ARYAN SANTOSH SHITOLE\\n'),\n",
       " ('A', 'GOOD', 1, 'AARVI VIKRAM PATIL\\n'),\n",
       " ('B+', 'AVERAGE', 11, 'MYRA AFJAL PATHAN\\n'),\n",
       " ('C+', 'NOT BAD', 14, 'LAXMAN RAMDAS ATHAVLE\\n'),\n",
       " ('ABS', 'ABSENT', 13, 'RIDDHI SACHIN DHAGE\\n')]"
      ]
     },
     "execution_count": 12,
     "metadata": {},
     "output_type": "execute_result"
    }
   ],
   "source": [
    "# ineer join\n",
    "\n",
    "join='select grdinfo.grade, grdinfo.remark, std.rollno, std.name from grdinfo inner join std on grdinfo.grade=std.grade'\n",
    "result=cur.execute(join)\n",
    "result.fetchall()"
   ]
  },
  {
   "cell_type": "code",
   "execution_count": 13,
   "id": "96287528",
   "metadata": {},
   "outputs": [
    {
     "data": {
      "text/plain": [
       "[('A+', 'VERY GOOD', 22, 'ARYAN SANTOSH SHITOLE\\n'),\n",
       " ('A', 'GOOD', 1, 'AARVI VIKRAM PATIL\\n'),\n",
       " ('B+', 'AVERAGE', 11, 'MYRA AFJAL PATHAN\\n'),\n",
       " ('C+', 'NOT BAD', 14, 'LAXMAN RAMDAS ATHAVLE\\n'),\n",
       " ('ABS', 'ABSENT', 13, 'RIDDHI SACHIN DHAGE\\n')]"
      ]
     },
     "execution_count": 13,
     "metadata": {},
     "output_type": "execute_result"
    }
   ],
   "source": [
    "result=cur.execute('select grdinfo.grade, grdinfo.remark, std.rollno, std.name from grdinfo inner join std on grdinfo.grade=std.grade')\n",
    "result.fetchall()"
   ]
  },
  {
   "cell_type": "code",
   "execution_count": 16,
   "id": "d6f7c92e",
   "metadata": {},
   "outputs": [
    {
     "data": {
      "text/plain": [
       "[('A+', 'VERY GOOD', 22, 'ARYAN SANTOSH SHITOLE\\n'),\n",
       " ('A', 'GOOD', 1, 'AARVI VIKRAM PATIL\\n'),\n",
       " ('B+', 'AVERAGE', 11, 'MYRA AFJAL PATHAN\\n'),\n",
       " ('C+', 'NOT BAD', 14, 'LAXMAN RAMDAS ATHAVLE\\n'),\n",
       " ('ABS', 'ABSENT', 13, 'RIDDHI SACHIN DHAGE\\n')]"
      ]
     },
     "execution_count": 16,
     "metadata": {},
     "output_type": "execute_result"
    }
   ],
   "source": [
    "result=cur.execute('select grdinfo.grade, grdinfo.remark, std.rollno, std.name from grdinfo inner join std on grdinfo.grade=std.grade')\n",
    "\n",
    "result.fetchall()"
   ]
  },
  {
   "cell_type": "code",
   "execution_count": 17,
   "id": "e799e8ab",
   "metadata": {},
   "outputs": [
    {
     "name": "stdout",
     "output_type": "stream",
     "text": [
      "select grdinfo.grade, grdinfo.remark, std.rollno, std.name from grdinfo inner join std on grdinfo.grade=std.grade\n"
     ]
    }
   ],
   "source": [
    "join='select grdinfo.grade, grdinfo.remark, std.rollno, std.name from grdinfo inner join std on grdinfo.grade=std.grade'\n",
    "print(join)"
   ]
  },
  {
   "cell_type": "code",
   "execution_count": 18,
   "id": "46a8c4fd",
   "metadata": {},
   "outputs": [
    {
     "data": {
      "text/plain": [
       "[('A+', 'VERY GOOD', 22, 'ARYAN SANTOSH SHITOLE\\n'),\n",
       " ('A', 'GOOD', 1, 'AARVI VIKRAM PATIL\\n'),\n",
       " ('B+', 'AVERAGE', 11, 'MYRA AFJAL PATHAN\\n'),\n",
       " ('B', 'OKAY', None, None),\n",
       " ('C+', 'NOT BAD', 14, 'LAXMAN RAMDAS ATHAVLE\\n'),\n",
       " ('C', 'BAD', None, None),\n",
       " ('ABS', 'ABSENT', 13, 'RIDDHI SACHIN DHAGE\\n')]"
      ]
     },
     "execution_count": 18,
     "metadata": {},
     "output_type": "execute_result"
    }
   ],
   "source": [
    "#left join\n",
    "\n",
    "join='select grdinfo.grade, grdinfo.remark, std.rollno, std.name from grdinfo left join std on grdinfo.grade=std.grade'\n",
    "result= cur.execute(join)\n",
    "result.fetchall()"
   ]
  },
  {
   "cell_type": "code",
   "execution_count": 19,
   "id": "e353aa1c",
   "metadata": {},
   "outputs": [
    {
     "data": {
      "text/plain": [
       "<sqlite3.Cursor at 0x1f6a0c147a0>"
      ]
     },
     "execution_count": 19,
     "metadata": {},
     "output_type": "execute_result"
    }
   ],
   "source": [
    "cur.execute('create table if not exists table1(id int primary key,name text)')"
   ]
  },
  {
   "cell_type": "code",
   "execution_count": 20,
   "id": "ede2bba2",
   "metadata": {},
   "outputs": [
    {
     "data": {
      "text/plain": [
       "<sqlite3.Cursor at 0x1f6a0c147a0>"
      ]
     },
     "execution_count": 20,
     "metadata": {},
     "output_type": "execute_result"
    }
   ],
   "source": [
    "cur.execute('create table if not exists std(id int primary key,name text)')"
   ]
  },
  {
   "cell_type": "code",
   "execution_count": 24,
   "id": "026be9fd",
   "metadata": {},
   "outputs": [
    {
     "data": {
      "text/plain": [
       "<sqlite3.Cursor at 0x1f6a0c147a0>"
      ]
     },
     "execution_count": 24,
     "metadata": {},
     "output_type": "execute_result"
    }
   ],
   "source": [
    "cur.execute('drop table std')"
   ]
  },
  {
   "cell_type": "code",
   "execution_count": 25,
   "id": "cf5c4618",
   "metadata": {},
   "outputs": [
    {
     "ename": "OperationalError",
     "evalue": "no such table: std",
     "output_type": "error",
     "traceback": [
      "\u001b[1;31m---------------------------------------------------------------------------\u001b[0m",
      "\u001b[1;31mOperationalError\u001b[0m                          Traceback (most recent call last)",
      "Input \u001b[1;32mIn [25]\u001b[0m, in \u001b[0;36m<cell line: 1>\u001b[1;34m()\u001b[0m\n\u001b[1;32m----> 1\u001b[0m result\u001b[38;5;241m=\u001b[39m\u001b[43mcur\u001b[49m\u001b[38;5;241;43m.\u001b[39;49m\u001b[43mexecute\u001b[49m\u001b[43m(\u001b[49m\u001b[38;5;124;43m'\u001b[39;49m\u001b[38;5;124;43mselect * from std\u001b[39;49m\u001b[38;5;124;43m'\u001b[39;49m\u001b[43m)\u001b[49m\n\u001b[0;32m      2\u001b[0m result\u001b[38;5;241m.\u001b[39mfetchall()\n",
      "\u001b[1;31mOperationalError\u001b[0m: no such table: std"
     ]
    }
   ],
   "source": [
    "result=cur.execute('select * from std')\n",
    "result.fetchall()"
   ]
  },
  {
   "cell_type": "code",
   "execution_count": 26,
   "id": "2f0c81a6",
   "metadata": {},
   "outputs": [
    {
     "data": {
      "text/plain": [
       "<sqlite3.Cursor at 0x1f6a0c147a0>"
      ]
     },
     "execution_count": 26,
     "metadata": {},
     "output_type": "execute_result"
    }
   ],
   "source": [
    "cur.execute('create table if not exists std(grade text primary key, rollno int, name text, foreign key(grade) references grdinfo(grade))');"
   ]
  },
  {
   "cell_type": "code",
   "execution_count": 27,
   "id": "1c90ba27",
   "metadata": {},
   "outputs": [],
   "source": [
    "cur.execute('create table if not exists std(grade text primary key, rollno int, name text, foreign key(grade) references grdinfo(grade))');"
   ]
  },
  {
   "cell_type": "code",
   "execution_count": 28,
   "id": "72ed015f",
   "metadata": {},
   "outputs": [],
   "source": [
    "cur.execute('create table if not exists std(grade text primary key, rollno int, name text, foreign key(grade) references grdinfo(grade))');"
   ]
  },
  {
   "cell_type": "code",
   "execution_count": 30,
   "id": "73b959d3",
   "metadata": {},
   "outputs": [],
   "source": [
    "cur.execute('drop table std');"
   ]
  },
  {
   "cell_type": "code",
   "execution_count": 31,
   "id": "502b222a",
   "metadata": {},
   "outputs": [
    {
     "ename": "OperationalError",
     "evalue": "no such table: std",
     "output_type": "error",
     "traceback": [
      "\u001b[1;31m---------------------------------------------------------------------------\u001b[0m",
      "\u001b[1;31mOperationalError\u001b[0m                          Traceback (most recent call last)",
      "Input \u001b[1;32mIn [31]\u001b[0m, in \u001b[0;36m<cell line: 1>\u001b[1;34m()\u001b[0m\n\u001b[1;32m----> 1\u001b[0m result\u001b[38;5;241m=\u001b[39m\u001b[43mcur\u001b[49m\u001b[38;5;241;43m.\u001b[39;49m\u001b[43mexecute\u001b[49m\u001b[43m(\u001b[49m\u001b[38;5;124;43m'\u001b[39;49m\u001b[38;5;124;43mselect * from std\u001b[39;49m\u001b[38;5;124;43m'\u001b[39;49m\u001b[43m)\u001b[49m\n\u001b[0;32m      2\u001b[0m result\u001b[38;5;241m.\u001b[39mfetchall()\n",
      "\u001b[1;31mOperationalError\u001b[0m: no such table: std"
     ]
    }
   ],
   "source": [
    "result=cur.execute('select * from std')\n",
    "result.fetchall()"
   ]
  },
  {
   "cell_type": "code",
   "execution_count": 33,
   "id": "55c97afb",
   "metadata": {},
   "outputs": [
    {
     "data": {
      "text/plain": [
       "<sqlite3.Cursor at 0x1f6a0c147a0>"
      ]
     },
     "execution_count": 33,
     "metadata": {},
     "output_type": "execute_result"
    }
   ],
   "source": [
    "cur.execute('create table std(grade text primary key, rollno int, name text, foreign key(grade) references grdinfo(grade))')"
   ]
  },
  {
   "cell_type": "code",
   "execution_count": 34,
   "id": "34bc8805",
   "metadata": {},
   "outputs": [],
   "source": [
    "cur.execute('create table if not exists std(grade text primary key, rollno int, name text, foreign key(grade) references grdinfo(grade))');"
   ]
  },
  {
   "cell_type": "code",
   "execution_count": 35,
   "id": "f1aa4a64",
   "metadata": {},
   "outputs": [],
   "source": [
    "cur.execute('create table if not exists s1(grade text primary key, rollno int, name text, foreign key(grade) references grdinfo(grade))');"
   ]
  },
  {
   "cell_type": "code",
   "execution_count": 36,
   "id": "82561aa3",
   "metadata": {},
   "outputs": [],
   "source": [
    "cur.execute('ALTER TABLE s1 RENAME TO s2');"
   ]
  },
  {
   "cell_type": "code",
   "execution_count": 39,
   "id": "182c66e5",
   "metadata": {},
   "outputs": [
    {
     "data": {
      "text/plain": [
       "<sqlite3.Cursor at 0x1f6a0c147a0>"
      ]
     },
     "execution_count": 39,
     "metadata": {},
     "output_type": "execute_result"
    }
   ],
   "source": [
    "cur.execute('ALTER TABLE s2 DROP COLUMN rollno')"
   ]
  },
  {
   "cell_type": "code",
   "execution_count": null,
   "id": "dae8d86c",
   "metadata": {},
   "outputs": [],
   "source": []
  }
 ],
 "metadata": {
  "kernelspec": {
   "display_name": "Python 3 (ipykernel)",
   "language": "python",
   "name": "python3"
  },
  "language_info": {
   "codemirror_mode": {
    "name": "ipython",
    "version": 3
   },
   "file_extension": ".py",
   "mimetype": "text/x-python",
   "name": "python",
   "nbconvert_exporter": "python",
   "pygments_lexer": "ipython3",
   "version": "3.9.12"
  }
 },
 "nbformat": 4,
 "nbformat_minor": 5
}
