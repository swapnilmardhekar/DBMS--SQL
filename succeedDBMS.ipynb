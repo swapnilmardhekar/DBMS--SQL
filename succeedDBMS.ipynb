{
 "cells": [
  {
   "cell_type": "code",
   "execution_count": 1,
   "id": "c2c276fc",
   "metadata": {},
   "outputs": [],
   "source": [
    "#imported sqlite3 module\n",
    "import sqlite3"
   ]
  },
  {
   "cell_type": "code",
   "execution_count": 2,
   "id": "75d3d6a3",
   "metadata": {},
   "outputs": [],
   "source": [
    "#created databse\n",
    "db = sqlite3.connect('term1_result.db')"
   ]
  },
  {
   "cell_type": "code",
   "execution_count": 3,
   "id": "c157761c",
   "metadata": {},
   "outputs": [],
   "source": [
    "#created cursor\n",
    "cur = db.cursor()"
   ]
  },
  {
   "cell_type": "code",
   "execution_count": 6,
   "id": "47133d3c",
   "metadata": {},
   "outputs": [],
   "source": [
    "#saved changes\n",
    "db.commit()"
   ]
  },
  {
   "cell_type": "code",
   "execution_count": 7,
   "id": "fcc58a16",
   "metadata": {},
   "outputs": [
    {
     "data": {
      "text/plain": [
       "<sqlite3.Cursor at 0x1f5d05f4960>"
      ]
     },
     "execution_count": 7,
     "metadata": {},
     "output_type": "execute_result"
    }
   ],
   "source": [
    "#created table gradedetails\n",
    "cur.execute('create table gradedetails(grade text primary key, remark text, marks text)')"
   ]
  },
  {
   "cell_type": "code",
   "execution_count": 8,
   "id": "0585f1d7",
   "metadata": {},
   "outputs": [
    {
     "data": {
      "text/plain": [
       "<sqlite3.Cursor at 0x1f5d05f4960>"
      ]
     },
     "execution_count": 8,
     "metadata": {},
     "output_type": "execute_result"
    }
   ],
   "source": [
    "#mathematics\n",
    "cur.execute('create table mathematics(rollno int primary key, name text, grade text, foreign key(grade) references gradeinfo(grade))')"
   ]
  },
  {
   "cell_type": "code",
   "execution_count": 9,
   "id": "a6a9d82b",
   "metadata": {},
   "outputs": [
    {
     "data": {
      "text/plain": [
       "<sqlite3.Cursor at 0x1f5d05f4960>"
      ]
     },
     "execution_count": 9,
     "metadata": {},
     "output_type": "execute_result"
    }
   ],
   "source": [
    "#english\n",
    "cur.execute('create table english(rollno int primary key, name text, grade text, foreign key(grade) references gradeinfo(grade))')"
   ]
  },
  {
   "cell_type": "code",
   "execution_count": 10,
   "id": "35d93434",
   "metadata": {},
   "outputs": [
    {
     "data": {
      "text/plain": [
       "<sqlite3.Cursor at 0x1f5d05f4960>"
      ]
     },
     "execution_count": 10,
     "metadata": {},
     "output_type": "execute_result"
    }
   ],
   "source": [
    "#gk\n",
    "cur.execute('create table gk(rollno int primary key, name text, grade text, foreign key(grade) references gradeinfo(grade))')"
   ]
  },
  {
   "cell_type": "code",
   "execution_count": 12,
   "id": "45684cb8",
   "metadata": {},
   "outputs": [
    {
     "data": {
      "text/plain": [
       "<sqlite3.Cursor at 0x1f5d05f4960>"
      ]
     },
     "execution_count": 12,
     "metadata": {},
     "output_type": "execute_result"
    }
   ],
   "source": [
    "#dr\n",
    "cur.execute('create table dr(rollno int primary key, name text, grade text, foreign key (grade) references gradeinfo(grade))')"
   ]
  },
  {
   "cell_type": "code",
   "execution_count": 14,
   "id": "caeb1b76",
   "metadata": {},
   "outputs": [
    {
     "name": "stdout",
     "output_type": "stream",
     "text": [
      "7 rows inserted in gradedetails\n"
     ]
    }
   ],
   "source": [
    "#inserted csv file in gradedetails table\n",
    "with open('GRADE-INFO.csv', 'r') as file:\n",
    "    records=0\n",
    "    for i in file:\n",
    "        cur.execute('insert into gradedetails values(?,?,?)',i.split(','))\n",
    "        db.commit()\n",
    "        records+=1\n",
    "\n",
    "print(records,'rows inserted in gradedetails')"
   ]
  },
  {
   "cell_type": "code",
   "execution_count": 15,
   "id": "a3cf6f9c",
   "metadata": {},
   "outputs": [
    {
     "name": "stdout",
     "output_type": "stream",
     "text": [
      "31 rows inserted in mathematics\n"
     ]
    }
   ],
   "source": [
    "#inserted csv file in mathematics table\n",
    "with open('MATHS-OCT-T1-NURSERY-22-23-SARHAD.csv', 'r') as file:\n",
    "    records=0\n",
    "    for i in file:\n",
    "        cur.execute('insert into mathematics values(?,?,?)',i.split(','))\n",
    "        db.commit()\n",
    "        records+=1\n",
    "\n",
    "print(records,'rows inserted in mathematics')"
   ]
  },
  {
   "cell_type": "code",
   "execution_count": 16,
   "id": "9b149486",
   "metadata": {},
   "outputs": [
    {
     "name": "stdout",
     "output_type": "stream",
     "text": [
      "31 rows inserted in english\n"
     ]
    }
   ],
   "source": [
    "with open('ENG-OCT-11-NURSERY-22-23-SARHAD.csv', 'r') as file:\n",
    "    records=0\n",
    "    for i in file:\n",
    "        cur.execute('insert into english values(?,?,?)',i.split(','))\n",
    "        db.commit()\n",
    "        records+=1\n",
    "\n",
    "print(records,'rows inserted in english')"
   ]
  },
  {
   "cell_type": "code",
   "execution_count": 17,
   "id": "4caef3f9",
   "metadata": {},
   "outputs": [
    {
     "name": "stdout",
     "output_type": "stream",
     "text": [
      "31 rows inserted in gk\n"
     ]
    }
   ],
   "source": [
    "with open('GK-OCT-11-NURSERY-22-23-SARHAD.csv', 'r') as file:\n",
    "    records=0\n",
    "    for i in file:\n",
    "        cur.execute('insert into gk values(?,?,?)',i.split(','))\n",
    "        db.commit()\n",
    "        records+=1\n",
    "\n",
    "print(records,'rows inserted in gk')"
   ]
  },
  {
   "cell_type": "code",
   "execution_count": 18,
   "id": "2142feaf",
   "metadata": {},
   "outputs": [
    {
     "name": "stdout",
     "output_type": "stream",
     "text": [
      "31 rows inserted in dr\n"
     ]
    }
   ],
   "source": [
    "with open('DR-OCT-T1-NURSERY-22-23-SARHAD.csv', 'r') as file:\n",
    "    records=0\n",
    "    for i in file:\n",
    "        cur.execute('insert into dr values(?,?,?)',i.split(','))\n",
    "        db.commit()\n",
    "        records+=1\n",
    "\n",
    "print(records,'rows inserted in dr')"
   ]
  },
  {
   "cell_type": "code",
   "execution_count": 19,
   "id": "8ef0d6cd",
   "metadata": {},
   "outputs": [],
   "source": [
    "db.commit()"
   ]
  },
  {
   "cell_type": "code",
   "execution_count": 24,
   "id": "5e1873fc",
   "metadata": {},
   "outputs": [
    {
     "data": {
      "text/plain": [
       "[]"
      ]
     },
     "execution_count": 24,
     "metadata": {},
     "output_type": "execute_result"
    }
   ],
   "source": [
    "result = cur.execute(\"select * from mathematics where grade=(select grade from gradedetails where remark='VERY GOOD')\")\n",
    "result.fetchall()"
   ]
  },
  {
   "cell_type": "code",
   "execution_count": 28,
   "id": "c58e4b45",
   "metadata": {},
   "outputs": [
    {
     "data": {
      "text/plain": [
       "[('A+',)]"
      ]
     },
     "execution_count": 28,
     "metadata": {},
     "output_type": "execute_result"
    }
   ],
   "source": [
    "result = cur.execute('select grade from gradedetails where remark=\"VERY GOOD\"')\n",
    "result.fetchall()"
   ]
  },
  {
   "cell_type": "code",
   "execution_count": 30,
   "id": "4e580802",
   "metadata": {},
   "outputs": [
    {
     "data": {
      "text/plain": [
       "[(12, 'NIRVI RAKESH SHINDE', 'B+\\n')]"
      ]
     },
     "execution_count": 30,
     "metadata": {},
     "output_type": "execute_result"
    }
   ],
   "source": [
    "result = cur.execute('select * from gk where rollno=12')\n",
    "result.fetchall()"
   ]
  },
  {
   "cell_type": "code",
   "execution_count": 31,
   "id": "b89b9d25",
   "metadata": {},
   "outputs": [
    {
     "data": {
      "text/plain": [
       "[('B+\\n',)]"
      ]
     },
     "execution_count": 31,
     "metadata": {},
     "output_type": "execute_result"
    }
   ],
   "source": [
    "result = cur.execute('select grade from gk where rollno=12')\n",
    "result.fetchall()"
   ]
  },
  {
   "cell_type": "code",
   "execution_count": 32,
   "id": "d388da13",
   "metadata": {},
   "outputs": [
    {
     "data": {
      "text/plain": [
       "[('A\\n',),\n",
       " ('A\\n',),\n",
       " ('A\\n',),\n",
       " ('A\\n',),\n",
       " ('A\\n',),\n",
       " ('A\\n',),\n",
       " ('A\\n',),\n",
       " ('A\\n',),\n",
       " ('A\\n',),\n",
       " ('A\\n',),\n",
       " ('B+\\n',),\n",
       " ('B+\\n',),\n",
       " ('ABS\\n',),\n",
       " ('A\\n',),\n",
       " ('A\\n',),\n",
       " ('A\\n',),\n",
       " ('A\\n',),\n",
       " ('A\\n',),\n",
       " ('A\\n',),\n",
       " ('A\\n',),\n",
       " ('A\\n',),\n",
       " ('B+\\n',),\n",
       " ('A\\n',),\n",
       " ('A\\n',),\n",
       " ('ABS\\n',),\n",
       " ('B+\\n',),\n",
       " ('A\\n',),\n",
       " ('B+\\n',),\n",
       " ('B+\\n',),\n",
       " ('A\\n',),\n",
       " ('ABS\\n',)]"
      ]
     },
     "execution_count": 32,
     "metadata": {},
     "output_type": "execute_result"
    }
   ],
   "source": [
    "result = cur.execute('select grade from gk')\n",
    "result.fetchall()"
   ]
  },
  {
   "cell_type": "code",
   "execution_count": 33,
   "id": "5c4b615a",
   "metadata": {},
   "outputs": [
    {
     "data": {
      "text/plain": [
       "[('A\\n',),\n",
       " ('A\\n',),\n",
       " ('A\\n',),\n",
       " ('A\\n',),\n",
       " ('A\\n',),\n",
       " ('A\\n',),\n",
       " ('A\\n',),\n",
       " ('A\\n',),\n",
       " ('A\\n',),\n",
       " ('A\\n',),\n",
       " ('A\\n',),\n",
       " ('A\\n',),\n",
       " ('A\\n',),\n",
       " ('A\\n',),\n",
       " ('A\\n',),\n",
       " ('A\\n',),\n",
       " ('A\\n',),\n",
       " ('A\\n',),\n",
       " ('A\\n',),\n",
       " ('A\\n',),\n",
       " ('A\\n',),\n",
       " ('A\\n',)]"
      ]
     },
     "execution_count": 33,
     "metadata": {},
     "output_type": "execute_result"
    }
   ],
   "source": [
    "result = cur.execute('select grade from gk where grade=\"A\\n\"')\n",
    "result.fetchall()"
   ]
  },
  {
   "cell_type": "code",
   "execution_count": 34,
   "id": "21f6edfd",
   "metadata": {},
   "outputs": [
    {
     "data": {
      "text/plain": [
       "[('A',), ('A+',), ('ABS',), ('B',), ('B+',), ('C',), ('C+',)]"
      ]
     },
     "execution_count": 34,
     "metadata": {},
     "output_type": "execute_result"
    }
   ],
   "source": [
    "result = cur.execute('select grade from gradedetails')\n",
    "result.fetchall()"
   ]
  },
  {
   "cell_type": "code",
   "execution_count": 35,
   "id": "a76386a5",
   "metadata": {},
   "outputs": [
    {
     "data": {
      "text/plain": [
       "<sqlite3.Cursor at 0x1f5d05f4960>"
      ]
     },
     "execution_count": 35,
     "metadata": {},
     "output_type": "execute_result"
    }
   ],
   "source": [
    "cur.execute('create table gkupdated(rollno int primary key, grade text, name text, foreign key(grade) references gradeinfo(grade))')"
   ]
  },
  {
   "cell_type": "code",
   "execution_count": 36,
   "id": "c760314b",
   "metadata": {},
   "outputs": [
    {
     "name": "stdout",
     "output_type": "stream",
     "text": [
      "31 rows inserted in gkupdated\n"
     ]
    }
   ],
   "source": [
    "with open('GKUPDATED.csv', 'r') as file:\n",
    "    records=0\n",
    "    for i in file:\n",
    "        cur.execute('insert into gkupdated values(?,?,?)',i.split(','))\n",
    "        db.commit()\n",
    "        records+=1\n",
    "\n",
    "print(records,'rows inserted in gkupdated')"
   ]
  },
  {
   "cell_type": "code",
   "execution_count": 40,
   "id": "dd8e6dc4",
   "metadata": {},
   "outputs": [
    {
     "data": {
      "text/plain": [
       "[('A+',)]"
      ]
     },
     "execution_count": 40,
     "metadata": {},
     "output_type": "execute_result"
    }
   ],
   "source": [
    "result = cur.execute(\"select grade from gradedetails where grade=(select grade from gradedetails where remark='VERY GOOD')\")\n",
    "result.fetchall()"
   ]
  },
  {
   "cell_type": "code",
   "execution_count": 38,
   "id": "a9c6c2d6",
   "metadata": {},
   "outputs": [
    {
     "data": {
      "text/plain": [
       "[(1, 'A', 'AARVI VIKRAM PATIL\\n'),\n",
       " (2, 'A', 'AVANI AMOL KADAM\\n'),\n",
       " (3, 'A', 'AYANA AZHARUDDIN SHAIKH\\n'),\n",
       " (4, 'A', 'DIKSHA NAGESH HAJARE\\n'),\n",
       " (5, 'A', 'DISHA SHRIKANT TAVARE\\n'),\n",
       " (6, 'A', 'HERUMBI ROHIT BAJJA\\n'),\n",
       " (7, 'A', 'IRA SHARAD KATWATE\\n'),\n",
       " (8, 'A', 'KAAVYA DATTAPRASAD BIRADAR\\n'),\n",
       " (9, 'A', 'KARTIKI ROHIT KADAM\\n'),\n",
       " (10, 'A', 'KASHVI SURESH JAYBHAY\\n'),\n",
       " (11, 'B+', 'MYRA AFJAL PATHAN\\n'),\n",
       " (12, 'B+', 'NIRVI RAKESH SHINDE\\n'),\n",
       " (13, 'ABS', 'RIDDHI SACHIN DHAGE\\n'),\n",
       " (14, 'A', 'SAKSHI ASHISH PATIL\\n'),\n",
       " (15, 'A', 'SEJAL SANKET SHITOLE\\n'),\n",
       " (16, 'A', 'SWARA ASHISH PATIL\\n'),\n",
       " (17, 'A', 'SWARALI SAGAR SHETE\\n'),\n",
       " (18, 'A', 'ANISH SANKET SALUNKHE\\n'),\n",
       " (19, 'A', 'RAJVEER YOGESH TAPARE\\n'),\n",
       " (20, 'A', 'RIYANSH SAGAR THORAT\\n'),\n",
       " (21, 'A', 'RUDRA RAJENDRA DALAVI\\n'),\n",
       " (22, 'B+', 'RUDRA SHIVSHANKAR RAJBHAR\\n'),\n",
       " (23, 'A', 'SHIVAM VAIBHAV KAMBLE\\n'),\n",
       " (24, 'A', 'SHIVANSH NIKESH BERADE\\n'),\n",
       " (25, 'ABS', 'SHIVANSH SACHIN SHELAR\\n'),\n",
       " (26, 'B+', 'SHIVANSH SURAJ YADAV\\n'),\n",
       " (27, 'A', 'SWARUP SWAPNIL NIMBALKAR\\n'),\n",
       " (28, 'B+', 'SWARUP TUSHAR PILANE\\n'),\n",
       " (29, 'B+', 'SWAYAM SWAPNIL NIMBALKAR\\n'),\n",
       " (30, 'A', 'VED MAHESH KSHIRSAGAR\\n'),\n",
       " (31, 'ABS', 'VEDANT ROHAN SHIVATARE\\n')]"
      ]
     },
     "execution_count": 38,
     "metadata": {},
     "output_type": "execute_result"
    }
   ],
   "source": [
    "result = cur.execute(\"select * from gkupdated\")\n",
    "result.fetchall()"
   ]
  },
  {
   "cell_type": "code",
   "execution_count": 42,
   "id": "6cb896b3",
   "metadata": {},
   "outputs": [
    {
     "data": {
      "text/plain": [
       "<sqlite3.Cursor at 0x1f5d05f4960>"
      ]
     },
     "execution_count": 42,
     "metadata": {},
     "output_type": "execute_result"
    }
   ],
   "source": [
    "cur.execute('create table gklatest(grade text primary key,rollno int, name text, foreign key(grade) references gradedetails(grade))')"
   ]
  },
  {
   "cell_type": "code",
   "execution_count": 51,
   "id": "0dd9bdae",
   "metadata": {},
   "outputs": [
    {
     "data": {
      "text/plain": [
       "<sqlite3.Cursor at 0x1f5d05f4960>"
      ]
     },
     "execution_count": 51,
     "metadata": {},
     "output_type": "execute_result"
    }
   ],
   "source": [
    "cur.execute('create table naughtystd(grade text primary key,rollno int, name text, foreign key(grade) references gradedetails(grade))')"
   ]
  },
  {
   "cell_type": "code",
   "execution_count": 52,
   "id": "6704a016",
   "metadata": {},
   "outputs": [
    {
     "name": "stdout",
     "output_type": "stream",
     "text": [
      "5 rows inserted in naughtystd\n"
     ]
    }
   ],
   "source": [
    "with open('NAUGHTYSTD.csv','r') as file:\n",
    "    records=0\n",
    "    for i in file:\n",
    "        cur.execute('insert into naughtystd values(?,?,?)',i.split(','))\n",
    "        records+=1\n",
    "\n",
    "print(records,'rows inserted in naughtystd')"
   ]
  },
  {
   "cell_type": "code",
   "execution_count": 54,
   "id": "0732765c",
   "metadata": {},
   "outputs": [],
   "source": [
    "result = cur.execute('select * from naughtystd where grade=(select grade from gradedetails where remark=\"VERY GOOD\")')"
   ]
  },
  {
   "cell_type": "code",
   "execution_count": 56,
   "id": "8ac9257d",
   "metadata": {},
   "outputs": [
    {
     "data": {
      "text/plain": [
       "[('A+', 22, 'ARYAN SANTOSH SHITOLE\\n')]"
      ]
     },
     "execution_count": 56,
     "metadata": {},
     "output_type": "execute_result"
    }
   ],
   "source": [
    "result.fetchall()"
   ]
  },
  {
   "cell_type": "code",
   "execution_count": 58,
   "id": "dc3bdd51",
   "metadata": {},
   "outputs": [
    {
     "name": "stdout",
     "output_type": "stream",
     "text": [
      "(1, 'AARVI VIKRAM PATIL\\n', 'A', 'GOOD')\n",
      "(11, 'MYRA AFJAL PATHAN\\n', 'B+', 'AVERAGE')\n",
      "(13, 'RIDDHI SACHIN DHAGE\\n', 'ABS', 'ABSENT')\n",
      "(22, 'ARYAN SANTOSH SHITOLE\\n', 'A+', 'VERY GOOD')\n",
      "(14, 'LAXMAN RAMDAS ATHAVLE\\n', 'C+', 'NOT BAD')\n"
     ]
    }
   ],
   "source": [
    "join = 'select naughtystd.rollno, naughtystd.name, gradedetails.grade, gradedetails.remark from naughtystd inner join gradedetails on naughtystd.grade = gradedetails.grade'\n",
    "result = cur.execute(join)\n",
    "\n",
    "for i in result:\n",
    "    print(i)"
   ]
  },
  {
   "cell_type": "code",
   "execution_count": 59,
   "id": "7df5a6dc",
   "metadata": {},
   "outputs": [
    {
     "name": "stdout",
     "output_type": "stream",
     "text": [
      "(1, 'AARVI VIKRAM PATIL\\n', 'A', 'GOOD')\n",
      "(11, 'MYRA AFJAL PATHAN\\n', 'B+', 'AVERAGE')\n",
      "(13, 'RIDDHI SACHIN DHAGE\\n', 'ABS', 'ABSENT')\n",
      "(22, 'ARYAN SANTOSH SHITOLE\\n', 'A+', 'VERY GOOD')\n",
      "(14, 'LAXMAN RAMDAS ATHAVLE\\n', 'C+', 'NOT BAD')\n"
     ]
    }
   ],
   "source": [
    "join = 'select naughtystd.rollno, naughtystd.name, gradedetails.grade, gradedetails.remark from naughtystd left join gradedetails on naughtystd.grade = gradedetails.grade'\n",
    "result = cur.execute(join)\n",
    "\n",
    "for i in result:\n",
    "    print(i)"
   ]
  },
  {
   "cell_type": "code",
   "execution_count": 60,
   "id": "926c36b5",
   "metadata": {},
   "outputs": [],
   "source": [
    "db.commit()"
   ]
  },
  {
   "cell_type": "code",
   "execution_count": null,
   "id": "a6dedbbb",
   "metadata": {},
   "outputs": [],
   "source": [
    "join = 'select naughtystd.rollno, naughtystd.name, gradedetails.grade, gradedetails.remark from naughtystd left join gradedetails on naughtystd.grade = gradedetails.grade'\n",
    "result = cur.execute(join)\n",
    "\n",
    "for i in result:\n",
    "    print(i)"
   ]
  }
 ],
 "metadata": {
  "kernelspec": {
   "display_name": "Python 3 (ipykernel)",
   "language": "python",
   "name": "python3"
  },
  "language_info": {
   "codemirror_mode": {
    "name": "ipython",
    "version": 3
   },
   "file_extension": ".py",
   "mimetype": "text/x-python",
   "name": "python",
   "nbconvert_exporter": "python",
   "pygments_lexer": "ipython3",
   "version": "3.9.12"
  }
 },
 "nbformat": 4,
 "nbformat_minor": 5
}
