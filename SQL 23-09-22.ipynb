{
 "cells": [
  {
   "cell_type": "code",
   "execution_count": 1,
   "id": "4db4593a",
   "metadata": {},
   "outputs": [],
   "source": [
    "import sqlite3"
   ]
  },
  {
   "cell_type": "code",
   "execution_count": 2,
   "id": "e8410ecc",
   "metadata": {},
   "outputs": [],
   "source": [
    "dss= sqlite3.connect(\"datascince_salary_2020.db\")"
   ]
  },
  {
   "cell_type": "code",
   "execution_count": 3,
   "id": "815679c5",
   "metadata": {},
   "outputs": [],
   "source": [
    "cur=dss.cursor()"
   ]
  },
  {
   "cell_type": "code",
   "execution_count": 4,
   "id": "0c6408af",
   "metadata": {},
   "outputs": [
    {
     "data": {
      "text/plain": [
       "<sqlite3.Cursor at 0x1fdde9356c0>"
      ]
     },
     "execution_count": 4,
     "metadata": {},
     "output_type": "execute_result"
    }
   ],
   "source": [
    "cur.execute(\"create table data_scientist(exp_level text,sal_usd int,comp_size text)\")"
   ]
  },
  {
   "cell_type": "code",
   "execution_count": 5,
   "id": "c0cfe7ec",
   "metadata": {},
   "outputs": [
    {
     "data": {
      "text/plain": [
       "<sqlite3.Cursor at 0x1fdde9356c0>"
      ]
     },
     "execution_count": 5,
     "metadata": {},
     "output_type": "execute_result"
    }
   ],
   "source": [
    "cur.execute(\"insert into data_scientist(exp_level,sal_usd,comp_size) values('MI',79833,'L')\")"
   ]
  },
  {
   "cell_type": "code",
   "execution_count": 6,
   "id": "3ca76b3b",
   "metadata": {},
   "outputs": [
    {
     "data": {
      "text/plain": [
       "<sqlite3.Cursor at 0x1fdde9356c0>"
      ]
     },
     "execution_count": 6,
     "metadata": {},
     "output_type": "execute_result"
    }
   ],
   "source": [
    "cur.execute(\"insert into data_scientist values('MI',35735,'L')\")"
   ]
  },
  {
   "cell_type": "code",
   "execution_count": 7,
   "id": "49aa38e5",
   "metadata": {},
   "outputs": [
    {
     "data": {
      "text/plain": [
       "<sqlite3.Cursor at 0x1fdde9356c0>"
      ]
     },
     "execution_count": 7,
     "metadata": {},
     "output_type": "execute_result"
    }
   ],
   "source": [
    "cur.execute(\"insert into data_scientist values('EN',51321,'S'),('MI',40481,'L'),('EN',39916,'M'),('SE',68428,'L'),('MI',45760,'S'),('MI',76958,'S'),('MI',105000,'L'),('MI',38776,'M'),('MI',118000,'M'),('SE',120000,'L'),('MI',138350,'M'),('EN',21669,'M'),('EN',62726,'S'),('EN',49268,'S'),('EN',105000,'S'),('SE',91237,'S'),('MI',62726,'S'),('MI',42197,'S'),('SE',53192,'L'),('EN',29751,'L'),('MI',73000,'L'),('MI',50000,'L'),('MI',9466,'S'),('EN',49646,'M')\")"
   ]
  },
  {
   "cell_type": "code",
   "execution_count": 8,
   "id": "badd2dbe",
   "metadata": {},
   "outputs": [],
   "source": [
    "dss.commit()"
   ]
  },
  {
   "cell_type": "code",
   "execution_count": 9,
   "id": "7dd7e290",
   "metadata": {
    "scrolled": true
   },
   "outputs": [
    {
     "name": "stdout",
     "output_type": "stream",
     "text": [
      "('MI', 79833, 'L')\n",
      "('MI', 35735, 'L')\n",
      "('EN', 51321, 'S')\n",
      "('MI', 40481, 'L')\n",
      "('EN', 39916, 'M')\n",
      "('SE', 68428, 'L')\n",
      "('MI', 45760, 'S')\n",
      "('MI', 76958, 'S')\n",
      "('MI', 105000, 'L')\n",
      "('MI', 38776, 'M')\n",
      "('MI', 118000, 'M')\n",
      "('SE', 120000, 'L')\n",
      "('MI', 138350, 'M')\n",
      "('EN', 21669, 'M')\n",
      "('EN', 62726, 'S')\n",
      "('EN', 49268, 'S')\n",
      "('EN', 105000, 'S')\n",
      "('SE', 91237, 'S')\n",
      "('MI', 62726, 'S')\n",
      "('MI', 42197, 'S')\n",
      "('SE', 53192, 'L')\n",
      "('EN', 29751, 'L')\n",
      "('MI', 73000, 'L')\n",
      "('MI', 50000, 'L')\n",
      "('MI', 9466, 'S')\n",
      "('EN', 49646, 'M')\n"
     ]
    }
   ],
   "source": [
    "d_sci=cur.execute(\"select * from data_scientist\")\n",
    "\n",
    "for i in d_sci:\n",
    "    print(i)"
   ]
  },
  {
   "cell_type": "code",
   "execution_count": 10,
   "id": "b5f4df7f",
   "metadata": {},
   "outputs": [
    {
     "data": {
      "text/plain": [
       "<sqlite3.Cursor at 0x1fdde9356c0>"
      ]
     },
     "execution_count": 10,
     "metadata": {},
     "output_type": "execute_result"
    }
   ],
   "source": [
    "cur.execute(\"create table ml_scientist(exp_level text,sal_usd int,comp_size text)\")"
   ]
  },
  {
   "cell_type": "code",
   "execution_count": 11,
   "id": "2ea92f53",
   "metadata": {},
   "outputs": [
    {
     "data": {
      "text/plain": [
       "<sqlite3.Cursor at 0x1fdde9356c0>"
      ]
     },
     "execution_count": 11,
     "metadata": {},
     "output_type": "execute_result"
    }
   ],
   "source": [
    "cur.execute(\"insert into ml_scientist(exp_level,sal_usd,comp_size) values('SE',260000,'S')\")"
   ]
  },
  {
   "cell_type": "code",
   "execution_count": 12,
   "id": "560e2f32",
   "metadata": {},
   "outputs": [
    {
     "data": {
      "text/plain": [
       "<sqlite3.Cursor at 0x1fdde9356c0>"
      ]
     },
     "execution_count": 12,
     "metadata": {},
     "output_type": "execute_result"
    }
   ],
   "source": [
    "cur.execute(\"insert into ml_scientist values('EN',22500,'L'),('SE',120000,'S'),('MI',12000,'M'),('SE',225000,'L'),('MI',160000,'L'),('MI',112300,'L'),('MI',153000,'M')\")"
   ]
  },
  {
   "cell_type": "code",
   "execution_count": 13,
   "id": "ad0787da",
   "metadata": {},
   "outputs": [],
   "source": [
    "dss.commit()"
   ]
  },
  {
   "cell_type": "code",
   "execution_count": 14,
   "id": "e1640d75",
   "metadata": {},
   "outputs": [
    {
     "name": "stdout",
     "output_type": "stream",
     "text": [
      "('SE', 260000, 'S')\n",
      "('EN', 22500, 'L')\n",
      "('SE', 120000, 'S')\n",
      "('MI', 12000, 'M')\n",
      "('SE', 225000, 'L')\n",
      "('MI', 160000, 'L')\n",
      "('MI', 112300, 'L')\n",
      "('MI', 153000, 'M')\n"
     ]
    }
   ],
   "source": [
    "ml_sci=cur.execute(\"select * from ml_scientist\")\n",
    "\n",
    "for i in ml_sci:\n",
    "    print(i)"
   ]
  },
  {
   "cell_type": "code",
   "execution_count": 20,
   "id": "e57b6ff4",
   "metadata": {},
   "outputs": [
    {
     "name": "stdout",
     "output_type": "stream",
     "text": [
      "('MI', 9466, 'S')\n",
      "('EN', 21669, 'M')\n",
      "('EN', 29751, 'L')\n",
      "('MI', 35735, 'L')\n",
      "('MI', 38776, 'M')\n",
      "('EN', 39916, 'M')\n",
      "('MI', 40481, 'L')\n",
      "('MI', 42197, 'S')\n",
      "('MI', 45760, 'S')\n",
      "('EN', 49268, 'S')\n",
      "('EN', 49646, 'M')\n",
      "('MI', 50000, 'L')\n",
      "('EN', 51321, 'S')\n",
      "('SE', 53192, 'L')\n",
      "('EN', 62726, 'S')\n",
      "('MI', 62726, 'S')\n",
      "('SE', 68428, 'L')\n",
      "('MI', 73000, 'L')\n",
      "('MI', 76958, 'S')\n",
      "('MI', 79833, 'L')\n",
      "('SE', 91237, 'S')\n",
      "('MI', 105000, 'L')\n",
      "('EN', 105000, 'S')\n",
      "('MI', 118000, 'M')\n",
      "('SE', 120000, 'L')\n",
      "('MI', 138350, 'M')\n"
     ]
    }
   ],
   "source": [
    "d_sci=cur.execute(\"select * from data_scientist order by sal_usd asc\")\n",
    "\n",
    "for i in d_sci:\n",
    "    print(i)"
   ]
  },
  {
   "cell_type": "code",
   "execution_count": 21,
   "id": "f81c9116",
   "metadata": {},
   "outputs": [
    {
     "data": {
      "text/plain": [
       "[('MI', 9466, 'S'),\n",
       " ('EN', 21669, 'M'),\n",
       " ('EN', 29751, 'L'),\n",
       " ('MI', 35735, 'L'),\n",
       " ('MI', 38776, 'M'),\n",
       " ('EN', 39916, 'M'),\n",
       " ('MI', 40481, 'L'),\n",
       " ('MI', 42197, 'S'),\n",
       " ('MI', 45760, 'S'),\n",
       " ('EN', 49268, 'S'),\n",
       " ('EN', 49646, 'M'),\n",
       " ('MI', 50000, 'L'),\n",
       " ('EN', 51321, 'S'),\n",
       " ('SE', 53192, 'L'),\n",
       " ('EN', 62726, 'S'),\n",
       " ('MI', 62726, 'S'),\n",
       " ('SE', 68428, 'L'),\n",
       " ('MI', 73000, 'L'),\n",
       " ('MI', 76958, 'S'),\n",
       " ('MI', 79833, 'L'),\n",
       " ('SE', 91237, 'S'),\n",
       " ('MI', 105000, 'L'),\n",
       " ('EN', 105000, 'S'),\n",
       " ('MI', 118000, 'M'),\n",
       " ('SE', 120000, 'L'),\n",
       " ('MI', 138350, 'M')]"
      ]
     },
     "execution_count": 21,
     "metadata": {},
     "output_type": "execute_result"
    }
   ],
   "source": [
    "d_sci=cur.execute(\"select * from data_scientist order by sal_usd asc\")\n",
    "\n",
    "d_sci.fetchall()"
   ]
  },
  {
   "cell_type": "code",
   "execution_count": 23,
   "id": "e253be35",
   "metadata": {},
   "outputs": [
    {
     "name": "stdout",
     "output_type": "stream",
     "text": [
      "('MI', 79833, 'L')\n",
      "('EN', 51321, 'S')\n",
      "('SE', 68428, 'L')\n",
      "('MI', 76958, 'S')\n",
      "('MI', 105000, 'L')\n",
      "('MI', 118000, 'M')\n",
      "('SE', 120000, 'L')\n",
      "('MI', 138350, 'M')\n",
      "('EN', 62726, 'S')\n",
      "('EN', 105000, 'S')\n",
      "('SE', 91237, 'S')\n",
      "('MI', 62726, 'S')\n",
      "('SE', 53192, 'L')\n",
      "('MI', 73000, 'L')\n",
      "('MI', 50000, 'L')\n"
     ]
    }
   ],
   "source": [
    "d_sci=cur.execute(\"select * from data_scientist where sal_usd >= 50000\")\n",
    "\n",
    "for i in d_sci:\n",
    "    print(i)"
   ]
  },
  {
   "cell_type": "code",
   "execution_count": 24,
   "id": "995f8a06",
   "metadata": {},
   "outputs": [
    {
     "name": "stdout",
     "output_type": "stream",
     "text": [
      "('MI', 35735, 'L')\n",
      "('MI', 40481, 'L')\n",
      "('EN', 39916, 'M')\n",
      "('MI', 45760, 'S')\n",
      "('MI', 38776, 'M')\n",
      "('EN', 21669, 'M')\n",
      "('EN', 49268, 'S')\n",
      "('MI', 42197, 'S')\n",
      "('EN', 29751, 'L')\n",
      "('MI', 50000, 'L')\n",
      "('MI', 9466, 'S')\n",
      "('EN', 49646, 'M')\n"
     ]
    }
   ],
   "source": [
    "d_sci=cur.execute(\"select * from data_scientist where sal_usd <= 50000\")\n",
    "\n",
    "for i in d_sci:\n",
    "    print(i)"
   ]
  },
  {
   "cell_type": "code",
   "execution_count": 25,
   "id": "34297f8c",
   "metadata": {
    "scrolled": true
   },
   "outputs": [
    {
     "name": "stdout",
     "output_type": "stream",
     "text": [
      "('L',)\n",
      "('L',)\n",
      "('S',)\n",
      "('L',)\n",
      "('M',)\n",
      "('L',)\n",
      "('S',)\n",
      "('S',)\n",
      "('L',)\n",
      "('M',)\n",
      "('M',)\n",
      "('L',)\n",
      "('M',)\n",
      "('M',)\n",
      "('S',)\n",
      "('S',)\n",
      "('S',)\n",
      "('S',)\n",
      "('S',)\n",
      "('S',)\n",
      "('L',)\n",
      "('L',)\n",
      "('L',)\n",
      "('L',)\n",
      "('S',)\n",
      "('M',)\n"
     ]
    }
   ],
   "source": [
    "d_sci=cur.execute(\"select comp_size from data_scientist\")\n",
    "\n",
    "for i in d_sci:\n",
    "    print(i)"
   ]
  },
  {
   "cell_type": "code",
   "execution_count": 26,
   "id": "a54a8723",
   "metadata": {
    "scrolled": true
   },
   "outputs": [
    {
     "name": "stdout",
     "output_type": "stream",
     "text": [
      "('L', 79833)\n",
      "('L', 35735)\n",
      "('S', 51321)\n",
      "('L', 40481)\n",
      "('M', 39916)\n",
      "('L', 68428)\n",
      "('S', 45760)\n",
      "('S', 76958)\n",
      "('L', 105000)\n",
      "('M', 38776)\n",
      "('M', 118000)\n",
      "('L', 120000)\n",
      "('M', 138350)\n",
      "('M', 21669)\n",
      "('S', 62726)\n",
      "('S', 49268)\n",
      "('S', 105000)\n",
      "('S', 91237)\n",
      "('S', 62726)\n",
      "('S', 42197)\n",
      "('L', 53192)\n",
      "('L', 29751)\n",
      "('L', 73000)\n",
      "('L', 50000)\n",
      "('S', 9466)\n",
      "('M', 49646)\n"
     ]
    }
   ],
   "source": [
    "d_sci=cur.execute(\"select comp_size,sal_usd from data_scientist\")\n",
    "\n",
    "for i in d_sci:\n",
    "    print(i)"
   ]
  },
  {
   "cell_type": "code",
   "execution_count": 27,
   "id": "2d51ffea",
   "metadata": {},
   "outputs": [
    {
     "name": "stdout",
     "output_type": "stream",
     "text": [
      "('MI', 105000, 'L')\n",
      "('MI', 118000, 'M')\n",
      "('EN', 105000, 'S')\n"
     ]
    }
   ],
   "source": [
    "d_sci=cur.execute(\"select * from data_scientist where sal_usd in (118000,105000)\")\n",
    "\n",
    "for i in d_sci:\n",
    "    print(i)"
   ]
  },
  {
   "cell_type": "code",
   "execution_count": 29,
   "id": "b1fa7465",
   "metadata": {},
   "outputs": [
    {
     "name": "stdout",
     "output_type": "stream",
     "text": [
      "('MI', 118000, 'M')\n"
     ]
    }
   ],
   "source": [
    "d_sci=cur.execute(\"select * from data_scientist where sal_usd= 118000\")\n",
    "\n",
    "for i in d_sci:\n",
    "    print(i)"
   ]
  },
  {
   "cell_type": "code",
   "execution_count": 30,
   "id": "c8c87492",
   "metadata": {},
   "outputs": [
    {
     "name": "stdout",
     "output_type": "stream",
     "text": [
      "('MI',)\n",
      "('MI',)\n",
      "('EN',)\n",
      "('MI',)\n",
      "('EN',)\n",
      "('SE',)\n",
      "('MI',)\n",
      "('MI',)\n",
      "('MI',)\n",
      "('MI',)\n",
      "('MI',)\n",
      "('SE',)\n",
      "('MI',)\n",
      "('EN',)\n",
      "('EN',)\n",
      "('EN',)\n",
      "('EN',)\n",
      "('SE',)\n",
      "('MI',)\n",
      "('MI',)\n",
      "('SE',)\n",
      "('EN',)\n",
      "('MI',)\n",
      "('MI',)\n",
      "('MI',)\n",
      "('EN',)\n"
     ]
    }
   ],
   "source": [
    "d_sci=cur.execute(\"select exp_level from data_scientist\")\n",
    "\n",
    "for i in d_sci:\n",
    "    print(i)"
   ]
  },
  {
   "cell_type": "code",
   "execution_count": null,
   "id": "bfca39cd",
   "metadata": {},
   "outputs": [],
   "source": []
  }
 ],
 "metadata": {
  "kernelspec": {
   "display_name": "Python 3 (ipykernel)",
   "language": "python",
   "name": "python3"
  },
  "language_info": {
   "codemirror_mode": {
    "name": "ipython",
    "version": 3
   },
   "file_extension": ".py",
   "mimetype": "text/x-python",
   "name": "python",
   "nbconvert_exporter": "python",
   "pygments_lexer": "ipython3",
   "version": "3.9.12"
  }
 },
 "nbformat": 4,
 "nbformat_minor": 5
}
