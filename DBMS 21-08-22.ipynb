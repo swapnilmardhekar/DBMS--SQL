{
 "cells": [
  {
   "cell_type": "markdown",
   "id": "b33692de",
   "metadata": {},
   "source": [
    "# DBMS"
   ]
  },
  {
   "cell_type": "code",
   "execution_count": 1,
   "id": "31d97c57",
   "metadata": {},
   "outputs": [],
   "source": [
    "import sqlite3"
   ]
  },
  {
   "cell_type": "markdown",
   "id": "ab8b61e2",
   "metadata": {},
   "source": [
    "# create database\n",
    "(Connect,curser,execute,commit)"
   ]
  },
  {
   "cell_type": "markdown",
   "id": "fa53b92d",
   "metadata": {},
   "source": [
    "Connect"
   ]
  },
  {
   "cell_type": "code",
   "execution_count": 2,
   "id": "1a1903ed",
   "metadata": {},
   "outputs": [
    {
     "data": {
      "text/plain": [
       "<sqlite3.Connection at 0x2927300d030>"
      ]
     },
     "execution_count": 2,
     "metadata": {},
     "output_type": "execute_result"
    }
   ],
   "source": [
    "db= sqlite3.connect('student_detail_database21Aug.db')\n",
    "db"
   ]
  },
  {
   "cell_type": "markdown",
   "id": "0c78e18a",
   "metadata": {},
   "source": [
    "create curser"
   ]
  },
  {
   "cell_type": "code",
   "execution_count": 3,
   "id": "6fab9d16",
   "metadata": {},
   "outputs": [
    {
     "data": {
      "text/plain": [
       "<sqlite3.Connection at 0x2927300d030>"
      ]
     },
     "execution_count": 3,
     "metadata": {},
     "output_type": "execute_result"
    }
   ],
   "source": [
    "\n",
    "cur=db.cursor()\n",
    "db"
   ]
  },
  {
   "cell_type": "markdown",
   "id": "6b4d978c",
   "metadata": {},
   "source": [
    "execute"
   ]
  },
  {
   "cell_type": "code",
   "execution_count": 4,
   "id": "5db0a689",
   "metadata": {
    "scrolled": true
   },
   "outputs": [
    {
     "ename": "OperationalError",
     "evalue": "table student already exists",
     "output_type": "error",
     "traceback": [
      "\u001b[1;31m---------------------------------------------------------------------------\u001b[0m",
      "\u001b[1;31mOperationalError\u001b[0m                          Traceback (most recent call last)",
      "Input \u001b[1;32mIn [4]\u001b[0m, in \u001b[0;36m<cell line: 1>\u001b[1;34m()\u001b[0m\n\u001b[1;32m----> 1\u001b[0m \u001b[43mcur\u001b[49m\u001b[38;5;241;43m.\u001b[39;49m\u001b[43mexecute\u001b[49m\u001b[43m(\u001b[49m\u001b[38;5;124;43m'\u001b[39;49m\u001b[38;5;124;43mcreate table student(id int primary key,name text,marks int)\u001b[39;49m\u001b[38;5;124;43m'\u001b[39;49m\u001b[43m)\u001b[49m\n",
      "\u001b[1;31mOperationalError\u001b[0m: table student already exists"
     ]
    }
   ],
   "source": [
    "cur.execute('create table student(id int primary key,name text,marks int)')"
   ]
  },
  {
   "cell_type": "code",
   "execution_count": null,
   "id": "926bd804",
   "metadata": {},
   "outputs": [],
   "source": [
    "cur.execute(\"insert into student(id,name,marks) values(101,'john',80)\")"
   ]
  },
  {
   "cell_type": "markdown",
   "id": "5d476989",
   "metadata": {},
   "source": [
    "commit"
   ]
  },
  {
   "cell_type": "code",
   "execution_count": 5,
   "id": "38966d82",
   "metadata": {},
   "outputs": [],
   "source": [
    "db.commit()"
   ]
  },
  {
   "cell_type": "code",
   "execution_count": 9,
   "id": "4a7e7975",
   "metadata": {},
   "outputs": [
    {
     "ename": "IntegrityError",
     "evalue": "UNIQUE constraint failed: student.id",
     "output_type": "error",
     "traceback": [
      "\u001b[1;31m---------------------------------------------------------------------------\u001b[0m",
      "\u001b[1;31mIntegrityError\u001b[0m                            Traceback (most recent call last)",
      "Input \u001b[1;32mIn [9]\u001b[0m, in \u001b[0;36m<cell line: 1>\u001b[1;34m()\u001b[0m\n\u001b[1;32m----> 1\u001b[0m \u001b[43mcur\u001b[49m\u001b[38;5;241;43m.\u001b[39;49m\u001b[43mexecute\u001b[49m\u001b[43m(\u001b[49m\u001b[38;5;124;43m\"\u001b[39;49m\u001b[38;5;124;43minsert into student values(102,\u001b[39;49m\u001b[38;5;124;43m'\u001b[39;49m\u001b[38;5;124;43mjack\u001b[39;49m\u001b[38;5;124;43m'\u001b[39;49m\u001b[38;5;124;43m,75)\u001b[39;49m\u001b[38;5;124;43m\"\u001b[39;49m\u001b[43m)\u001b[49m\n\u001b[0;32m      2\u001b[0m db\u001b[38;5;241m.\u001b[39mcommit()\n",
      "\u001b[1;31mIntegrityError\u001b[0m: UNIQUE constraint failed: student.id"
     ]
    }
   ],
   "source": [
    "\n",
    "cur.execute(\"insert into student values(102,'jack',75)\")\n",
    "db.commit()"
   ]
  },
  {
   "cell_type": "code",
   "execution_count": 7,
   "id": "b7863b48",
   "metadata": {},
   "outputs": [
    {
     "ename": "IntegrityError",
     "evalue": "UNIQUE constraint failed: student.id",
     "output_type": "error",
     "traceback": [
      "\u001b[1;31m---------------------------------------------------------------------------\u001b[0m",
      "\u001b[1;31mIntegrityError\u001b[0m                            Traceback (most recent call last)",
      "Input \u001b[1;32mIn [7]\u001b[0m, in \u001b[0;36m<cell line: 1>\u001b[1;34m()\u001b[0m\n\u001b[1;32m----> 1\u001b[0m \u001b[43mcur\u001b[49m\u001b[38;5;241;43m.\u001b[39;49m\u001b[43mexecute\u001b[49m\u001b[43m(\u001b[49m\u001b[38;5;124;43m\"\u001b[39;49m\u001b[38;5;124;43minsert into student(id,name,marks) values(103,\u001b[39;49m\u001b[38;5;124;43m'\u001b[39;49m\u001b[38;5;124;43mDorsay\u001b[39;49m\u001b[38;5;124;43m'\u001b[39;49m\u001b[38;5;124;43m,55)\u001b[39;49m\u001b[38;5;124;43m\"\u001b[39;49m\u001b[43m)\u001b[49m\n\u001b[0;32m      2\u001b[0m db\u001b[38;5;241m.\u001b[39mcommit()\n",
      "\u001b[1;31mIntegrityError\u001b[0m: UNIQUE constraint failed: student.id"
     ]
    }
   ],
   "source": [
    "cur.execute(\"insert into student(id,name,marks) values(103,'Dorsay',55)\")\n",
    "db.commit()"
   ]
  },
  {
   "cell_type": "code",
   "execution_count": null,
   "id": "0d40091d",
   "metadata": {},
   "outputs": [],
   "source": [
    "results=cur.execute(\"select * from student\")\n",
    "\n",
    "for i in results:\n",
    "    print(i)"
   ]
  },
  {
   "cell_type": "code",
   "execution_count": null,
   "id": "f5ae7e9e",
   "metadata": {},
   "outputs": [],
   "source": [
    "cur.execute(\"insert into student(id,name,marks) values(104,'sarthak',78)\")\n",
    "db.commit()"
   ]
  },
  {
   "cell_type": "code",
   "execution_count": null,
   "id": "817e9fe5",
   "metadata": {},
   "outputs": [],
   "source": [
    "cur.execute(\"insert into student values(105,'Grey',90),(106,'Richard',55),(107,'Branson',95)\")\n",
    "\n",
    "db.commit()"
   ]
  },
  {
   "cell_type": "code",
   "execution_count": null,
   "id": "b7bed193",
   "metadata": {},
   "outputs": [],
   "source": []
  }
 ],
 "metadata": {
  "kernelspec": {
   "display_name": "Python 3 (ipykernel)",
   "language": "python",
   "name": "python3"
  },
  "language_info": {
   "codemirror_mode": {
    "name": "ipython",
    "version": 3
   },
   "file_extension": ".py",
   "mimetype": "text/x-python",
   "name": "python",
   "nbconvert_exporter": "python",
   "pygments_lexer": "ipython3",
   "version": "3.9.12"
  }
 },
 "nbformat": 4,
 "nbformat_minor": 5
}
